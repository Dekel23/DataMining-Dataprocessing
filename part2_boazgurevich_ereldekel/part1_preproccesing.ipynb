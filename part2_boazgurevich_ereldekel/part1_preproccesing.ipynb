{
 "cells": [
  {
   "cell_type": "code",
   "execution_count": 248,
   "metadata": {},
   "outputs": [],
   "source": [
    "import pandas as pd\n",
    "import numpy as np\n",
    "import seaborn as sns \n",
    "import matplotlib.pyplot as plt\n",
    "from sklearn.decomposition import PCA\n",
    "from datetime import datetime"
   ]
  },
  {
   "attachments": {},
   "cell_type": "markdown",
   "metadata": {},
   "source": [
    "# Presentation of Data"
   ]
  },
  {
   "cell_type": "code",
   "execution_count": 249,
   "metadata": {},
   "outputs": [
    {
     "name": "stdout",
     "output_type": "stream",
     "text": [
      "<class 'pandas.core.frame.DataFrame'>\n",
      "RangeIndex: 185 entries, 0 to 184\n",
      "Data columns (total 40 columns):\n",
      " #   Column               Non-Null Count  Dtype  \n",
      "---  ------               --------------  -----  \n",
      " 0   id                   185 non-null    object \n",
      " 1   state_code           185 non-null    object \n",
      " 2   latitude             185 non-null    float64\n",
      " 3   longitude            185 non-null    float64\n",
      " 4   zip_code             185 non-null    object \n",
      " 5   city                 185 non-null    object \n",
      " 6   name                 185 non-null    object \n",
      " 7   foundation_date      185 non-null    object \n",
      " 8   first_funding_date   185 non-null    object \n",
      " 9   last_funding_date    185 non-null    object \n",
      " 10  first_funding_age    185 non-null    float64\n",
      " 11  last_funding_age     185 non-null    float64\n",
      " 12  first_milestone_age  162 non-null    float64\n",
      " 13  last_milestone_age   162 non-null    float64\n",
      " 14  connections          185 non-null    int64  \n",
      " 15  funding_rounds       185 non-null    int64  \n",
      " 16  total_funding        185 non-null    int64  \n",
      " 17  milestones           185 non-null    int64  \n",
      " 18  in_CA                185 non-null    int64  \n",
      " 19  in_NY                185 non-null    int64  \n",
      " 20  in_MA                185 non-null    int64  \n",
      " 21  in_TX                185 non-null    int64  \n",
      " 22  in_otherstate        185 non-null    int64  \n",
      " 23  category             185 non-null    object \n",
      " 24  is_software          185 non-null    int64  \n",
      " 25  is_web               185 non-null    int64  \n",
      " 26  is_mobile            185 non-null    int64  \n",
      " 27  is_enterprise        185 non-null    int64  \n",
      " 28  is_advertising       185 non-null    int64  \n",
      " 29  is_gamesvideo        185 non-null    int64  \n",
      " 30  is_ecommerce         185 non-null    int64  \n",
      " 31  is_biotech           185 non-null    int64  \n",
      " 32  is_consulting        185 non-null    int64  \n",
      " 33  is_othercategory     185 non-null    int64  \n",
      " 34  roundA               185 non-null    int64  \n",
      " 35  roundB               185 non-null    int64  \n",
      " 36  roundC               185 non-null    int64  \n",
      " 37  roundD               185 non-null    int64  \n",
      " 38  avg_group_size       185 non-null    float64\n",
      " 39  in_Top500            185 non-null    int64  \n",
      "dtypes: float64(7), int64(24), object(9)\n",
      "memory usage: 57.9+ KB\n"
     ]
    }
   ],
   "source": [
    "df = pd.read_csv(\"./test_dataset.csv\")\n",
    "df.info()"
   ]
  },
  {
   "cell_type": "code",
   "execution_count": 250,
   "metadata": {},
   "outputs": [
    {
     "data": {
      "text/html": [
       "<div>\n",
       "<style scoped>\n",
       "    .dataframe tbody tr th:only-of-type {\n",
       "        vertical-align: middle;\n",
       "    }\n",
       "\n",
       "    .dataframe tbody tr th {\n",
       "        vertical-align: top;\n",
       "    }\n",
       "\n",
       "    .dataframe thead th {\n",
       "        text-align: right;\n",
       "    }\n",
       "</style>\n",
       "<table border=\"1\" class=\"dataframe\">\n",
       "  <thead>\n",
       "    <tr style=\"text-align: right;\">\n",
       "      <th></th>\n",
       "      <th>id</th>\n",
       "      <th>state_code</th>\n",
       "      <th>latitude</th>\n",
       "      <th>longitude</th>\n",
       "      <th>zip_code</th>\n",
       "      <th>city</th>\n",
       "      <th>name</th>\n",
       "      <th>foundation_date</th>\n",
       "      <th>first_funding_date</th>\n",
       "      <th>last_funding_date</th>\n",
       "      <th>...</th>\n",
       "      <th>is_ecommerce</th>\n",
       "      <th>is_biotech</th>\n",
       "      <th>is_consulting</th>\n",
       "      <th>is_othercategory</th>\n",
       "      <th>roundA</th>\n",
       "      <th>roundB</th>\n",
       "      <th>roundC</th>\n",
       "      <th>roundD</th>\n",
       "      <th>avg_group_size</th>\n",
       "      <th>in_Top500</th>\n",
       "    </tr>\n",
       "  </thead>\n",
       "  <tbody>\n",
       "    <tr>\n",
       "      <th>0</th>\n",
       "      <td>c:904</td>\n",
       "      <td>CA</td>\n",
       "      <td>33.095680</td>\n",
       "      <td>-117.244034</td>\n",
       "      <td>92009</td>\n",
       "      <td>Carlsbad</td>\n",
       "      <td>BrightQube</td>\n",
       "      <td>10/1/2006</td>\n",
       "      <td>5/1/2007</td>\n",
       "      <td>5/27/2008</td>\n",
       "      <td>...</td>\n",
       "      <td>1</td>\n",
       "      <td>0</td>\n",
       "      <td>0</td>\n",
       "      <td>0</td>\n",
       "      <td>1</td>\n",
       "      <td>0</td>\n",
       "      <td>0</td>\n",
       "      <td>0</td>\n",
       "      <td>1.0</td>\n",
       "      <td>1</td>\n",
       "    </tr>\n",
       "    <tr>\n",
       "      <th>1</th>\n",
       "      <td>c:64694</td>\n",
       "      <td>CA</td>\n",
       "      <td>34.019657</td>\n",
       "      <td>-118.487549</td>\n",
       "      <td>90401</td>\n",
       "      <td>Santa Monica</td>\n",
       "      <td>ServiceMesh</td>\n",
       "      <td>1/1/2008</td>\n",
       "      <td>11/16/2011</td>\n",
       "      <td>11/16/2011</td>\n",
       "      <td>...</td>\n",
       "      <td>0</td>\n",
       "      <td>0</td>\n",
       "      <td>0</td>\n",
       "      <td>0</td>\n",
       "      <td>0</td>\n",
       "      <td>0</td>\n",
       "      <td>0</td>\n",
       "      <td>0</td>\n",
       "      <td>1.0</td>\n",
       "      <td>1</td>\n",
       "    </tr>\n",
       "    <tr>\n",
       "      <th>2</th>\n",
       "      <td>c:1923</td>\n",
       "      <td>CA</td>\n",
       "      <td>37.788266</td>\n",
       "      <td>-122.403865</td>\n",
       "      <td>94108</td>\n",
       "      <td>San Francisco</td>\n",
       "      <td>Lookery</td>\n",
       "      <td>8/1/2007</td>\n",
       "      <td>2/7/2008</td>\n",
       "      <td>9/4/2008</td>\n",
       "      <td>...</td>\n",
       "      <td>0</td>\n",
       "      <td>0</td>\n",
       "      <td>0</td>\n",
       "      <td>0</td>\n",
       "      <td>1</td>\n",
       "      <td>0</td>\n",
       "      <td>0</td>\n",
       "      <td>0</td>\n",
       "      <td>11.5</td>\n",
       "      <td>1</td>\n",
       "    </tr>\n",
       "    <tr>\n",
       "      <th>3</th>\n",
       "      <td>c:152560</td>\n",
       "      <td>CA</td>\n",
       "      <td>37.779281</td>\n",
       "      <td>-122.419236</td>\n",
       "      <td>94109</td>\n",
       "      <td>San Francisco</td>\n",
       "      <td>Wantful</td>\n",
       "      <td>1/1/2011</td>\n",
       "      <td>3/20/2012</td>\n",
       "      <td>3/20/2012</td>\n",
       "      <td>...</td>\n",
       "      <td>1</td>\n",
       "      <td>0</td>\n",
       "      <td>0</td>\n",
       "      <td>0</td>\n",
       "      <td>1</td>\n",
       "      <td>0</td>\n",
       "      <td>0</td>\n",
       "      <td>0</td>\n",
       "      <td>8.0</td>\n",
       "      <td>1</td>\n",
       "    </tr>\n",
       "    <tr>\n",
       "      <th>4</th>\n",
       "      <td>c:71639</td>\n",
       "      <td>CA</td>\n",
       "      <td>38.021489</td>\n",
       "      <td>-122.519998</td>\n",
       "      <td>94903</td>\n",
       "      <td>San Rafael</td>\n",
       "      <td>Zep Solar</td>\n",
       "      <td>1/1/2009</td>\n",
       "      <td>11/20/2013</td>\n",
       "      <td>11/20/2013</td>\n",
       "      <td>...</td>\n",
       "      <td>0</td>\n",
       "      <td>0</td>\n",
       "      <td>0</td>\n",
       "      <td>1</td>\n",
       "      <td>1</td>\n",
       "      <td>0</td>\n",
       "      <td>0</td>\n",
       "      <td>0</td>\n",
       "      <td>1.0</td>\n",
       "      <td>0</td>\n",
       "    </tr>\n",
       "  </tbody>\n",
       "</table>\n",
       "<p>5 rows × 40 columns</p>\n",
       "</div>"
      ],
      "text/plain": [
       "         id state_code   latitude   longitude zip_code           city   \n",
       "0     c:904         CA  33.095680 -117.244034    92009       Carlsbad  \\\n",
       "1   c:64694         CA  34.019657 -118.487549    90401   Santa Monica   \n",
       "2    c:1923         CA  37.788266 -122.403865    94108  San Francisco   \n",
       "3  c:152560         CA  37.779281 -122.419236    94109  San Francisco   \n",
       "4   c:71639         CA  38.021489 -122.519998    94903     San Rafael   \n",
       "\n",
       "          name foundation_date first_funding_date last_funding_date  ...   \n",
       "0   BrightQube       10/1/2006           5/1/2007         5/27/2008  ...  \\\n",
       "1  ServiceMesh        1/1/2008         11/16/2011        11/16/2011  ...   \n",
       "2      Lookery        8/1/2007           2/7/2008          9/4/2008  ...   \n",
       "3      Wantful        1/1/2011          3/20/2012         3/20/2012  ...   \n",
       "4    Zep Solar        1/1/2009         11/20/2013        11/20/2013  ...   \n",
       "\n",
       "   is_ecommerce  is_biotech  is_consulting  is_othercategory  roundA  roundB   \n",
       "0             1           0              0                 0       1       0  \\\n",
       "1             0           0              0                 0       0       0   \n",
       "2             0           0              0                 0       1       0   \n",
       "3             1           0              0                 0       1       0   \n",
       "4             0           0              0                 1       1       0   \n",
       "\n",
       "   roundC  roundD  avg_group_size  in_Top500  \n",
       "0       0       0             1.0          1  \n",
       "1       0       0             1.0          1  \n",
       "2       0       0            11.5          1  \n",
       "3       0       0             8.0          1  \n",
       "4       0       0             1.0          0  \n",
       "\n",
       "[5 rows x 40 columns]"
      ]
     },
     "execution_count": 250,
     "metadata": {},
     "output_type": "execute_result"
    }
   ],
   "source": [
    "df.head()"
   ]
  },
  {
   "attachments": {},
   "cell_type": "markdown",
   "metadata": {},
   "source": [
    "# Presentation of Statistics"
   ]
  },
  {
   "cell_type": "code",
   "execution_count": 251,
   "metadata": {},
   "outputs": [
    {
     "data": {
      "text/html": [
       "<div>\n",
       "<style scoped>\n",
       "    .dataframe tbody tr th:only-of-type {\n",
       "        vertical-align: middle;\n",
       "    }\n",
       "\n",
       "    .dataframe tbody tr th {\n",
       "        vertical-align: top;\n",
       "    }\n",
       "\n",
       "    .dataframe thead th {\n",
       "        text-align: right;\n",
       "    }\n",
       "</style>\n",
       "<table border=\"1\" class=\"dataframe\">\n",
       "  <thead>\n",
       "    <tr style=\"text-align: right;\">\n",
       "      <th></th>\n",
       "      <th>latitude</th>\n",
       "      <th>longitude</th>\n",
       "      <th>first_funding_age</th>\n",
       "      <th>last_funding_age</th>\n",
       "      <th>first_milestone_age</th>\n",
       "      <th>last_milestone_age</th>\n",
       "      <th>connections</th>\n",
       "      <th>funding_rounds</th>\n",
       "      <th>total_funding</th>\n",
       "      <th>milestones</th>\n",
       "      <th>...</th>\n",
       "      <th>is_ecommerce</th>\n",
       "      <th>is_biotech</th>\n",
       "      <th>is_consulting</th>\n",
       "      <th>is_othercategory</th>\n",
       "      <th>roundA</th>\n",
       "      <th>roundB</th>\n",
       "      <th>roundC</th>\n",
       "      <th>roundD</th>\n",
       "      <th>avg_group_size</th>\n",
       "      <th>in_Top500</th>\n",
       "    </tr>\n",
       "  </thead>\n",
       "  <tbody>\n",
       "    <tr>\n",
       "      <th>count</th>\n",
       "      <td>185.000000</td>\n",
       "      <td>185.000000</td>\n",
       "      <td>185.000000</td>\n",
       "      <td>185.000000</td>\n",
       "      <td>162.000000</td>\n",
       "      <td>162.000000</td>\n",
       "      <td>185.000000</td>\n",
       "      <td>185.000000</td>\n",
       "      <td>1.850000e+02</td>\n",
       "      <td>185.000000</td>\n",
       "      <td>...</td>\n",
       "      <td>185.000000</td>\n",
       "      <td>185.000000</td>\n",
       "      <td>185.000000</td>\n",
       "      <td>185.000000</td>\n",
       "      <td>185.000000</td>\n",
       "      <td>185.000000</td>\n",
       "      <td>185.000000</td>\n",
       "      <td>185.000000</td>\n",
       "      <td>185.000000</td>\n",
       "      <td>185.000000</td>\n",
       "    </tr>\n",
       "    <tr>\n",
       "      <th>mean</th>\n",
       "      <td>38.353036</td>\n",
       "      <td>-106.431156</td>\n",
       "      <td>2.247569</td>\n",
       "      <td>3.955084</td>\n",
       "      <td>2.909009</td>\n",
       "      <td>4.568756</td>\n",
       "      <td>7.735135</td>\n",
       "      <td>2.324324</td>\n",
       "      <td>1.759276e+07</td>\n",
       "      <td>1.886486</td>\n",
       "      <td>...</td>\n",
       "      <td>0.032432</td>\n",
       "      <td>0.027027</td>\n",
       "      <td>0.005405</td>\n",
       "      <td>0.372973</td>\n",
       "      <td>0.486486</td>\n",
       "      <td>0.372973</td>\n",
       "      <td>0.237838</td>\n",
       "      <td>0.075676</td>\n",
       "      <td>3.009010</td>\n",
       "      <td>0.789189</td>\n",
       "    </tr>\n",
       "    <tr>\n",
       "      <th>std</th>\n",
       "      <td>4.023591</td>\n",
       "      <td>21.964919</td>\n",
       "      <td>2.387700</td>\n",
       "      <td>2.782201</td>\n",
       "      <td>2.874208</td>\n",
       "      <td>2.978603</td>\n",
       "      <td>6.473198</td>\n",
       "      <td>1.376315</td>\n",
       "      <td>2.353837e+07</td>\n",
       "      <td>1.217214</td>\n",
       "      <td>...</td>\n",
       "      <td>0.177626</td>\n",
       "      <td>0.162602</td>\n",
       "      <td>0.073521</td>\n",
       "      <td>0.484907</td>\n",
       "      <td>0.501174</td>\n",
       "      <td>0.484907</td>\n",
       "      <td>0.426915</td>\n",
       "      <td>0.265196</td>\n",
       "      <td>2.045969</td>\n",
       "      <td>0.408991</td>\n",
       "    </tr>\n",
       "    <tr>\n",
       "      <th>min</th>\n",
       "      <td>25.752358</td>\n",
       "      <td>-122.674195</td>\n",
       "      <td>-1.000000</td>\n",
       "      <td>-0.115100</td>\n",
       "      <td>-7.005500</td>\n",
       "      <td>-7.005500</td>\n",
       "      <td>0.000000</td>\n",
       "      <td>1.000000</td>\n",
       "      <td>1.100000e+04</td>\n",
       "      <td>0.000000</td>\n",
       "      <td>...</td>\n",
       "      <td>0.000000</td>\n",
       "      <td>0.000000</td>\n",
       "      <td>0.000000</td>\n",
       "      <td>0.000000</td>\n",
       "      <td>0.000000</td>\n",
       "      <td>0.000000</td>\n",
       "      <td>0.000000</td>\n",
       "      <td>0.000000</td>\n",
       "      <td>1.000000</td>\n",
       "      <td>0.000000</td>\n",
       "    </tr>\n",
       "    <tr>\n",
       "      <th>25%</th>\n",
       "      <td>37.368830</td>\n",
       "      <td>-122.247573</td>\n",
       "      <td>0.465800</td>\n",
       "      <td>1.665800</td>\n",
       "      <td>0.686950</td>\n",
       "      <td>2.395900</td>\n",
       "      <td>3.000000</td>\n",
       "      <td>1.000000</td>\n",
       "      <td>2.250000e+06</td>\n",
       "      <td>1.000000</td>\n",
       "      <td>...</td>\n",
       "      <td>0.000000</td>\n",
       "      <td>0.000000</td>\n",
       "      <td>0.000000</td>\n",
       "      <td>0.000000</td>\n",
       "      <td>0.000000</td>\n",
       "      <td>0.000000</td>\n",
       "      <td>0.000000</td>\n",
       "      <td>0.000000</td>\n",
       "      <td>1.500000</td>\n",
       "      <td>1.000000</td>\n",
       "    </tr>\n",
       "    <tr>\n",
       "      <th>50%</th>\n",
       "      <td>37.755068</td>\n",
       "      <td>-118.878852</td>\n",
       "      <td>1.309600</td>\n",
       "      <td>3.602700</td>\n",
       "      <td>2.342450</td>\n",
       "      <td>4.352050</td>\n",
       "      <td>6.000000</td>\n",
       "      <td>2.000000</td>\n",
       "      <td>9.807367e+06</td>\n",
       "      <td>2.000000</td>\n",
       "      <td>...</td>\n",
       "      <td>0.000000</td>\n",
       "      <td>0.000000</td>\n",
       "      <td>0.000000</td>\n",
       "      <td>0.000000</td>\n",
       "      <td>0.000000</td>\n",
       "      <td>0.000000</td>\n",
       "      <td>0.000000</td>\n",
       "      <td>0.000000</td>\n",
       "      <td>2.500000</td>\n",
       "      <td>1.000000</td>\n",
       "    </tr>\n",
       "    <tr>\n",
       "      <th>75%</th>\n",
       "      <td>40.729839</td>\n",
       "      <td>-87.686634</td>\n",
       "      <td>3.786300</td>\n",
       "      <td>5.731500</td>\n",
       "      <td>4.919150</td>\n",
       "      <td>6.567800</td>\n",
       "      <td>10.000000</td>\n",
       "      <td>3.000000</td>\n",
       "      <td>2.490000e+07</td>\n",
       "      <td>3.000000</td>\n",
       "      <td>...</td>\n",
       "      <td>0.000000</td>\n",
       "      <td>0.000000</td>\n",
       "      <td>0.000000</td>\n",
       "      <td>1.000000</td>\n",
       "      <td>1.000000</td>\n",
       "      <td>1.000000</td>\n",
       "      <td>0.000000</td>\n",
       "      <td>0.000000</td>\n",
       "      <td>4.000000</td>\n",
       "      <td>1.000000</td>\n",
       "    </tr>\n",
       "    <tr>\n",
       "      <th>max</th>\n",
       "      <td>59.335232</td>\n",
       "      <td>18.057121</td>\n",
       "      <td>11.145200</td>\n",
       "      <td>11.145200</td>\n",
       "      <td>10.750700</td>\n",
       "      <td>11.874000</td>\n",
       "      <td>35.000000</td>\n",
       "      <td>7.000000</td>\n",
       "      <td>1.480000e+08</td>\n",
       "      <td>6.000000</td>\n",
       "      <td>...</td>\n",
       "      <td>1.000000</td>\n",
       "      <td>1.000000</td>\n",
       "      <td>1.000000</td>\n",
       "      <td>1.000000</td>\n",
       "      <td>1.000000</td>\n",
       "      <td>1.000000</td>\n",
       "      <td>1.000000</td>\n",
       "      <td>1.000000</td>\n",
       "      <td>11.500000</td>\n",
       "      <td>1.000000</td>\n",
       "    </tr>\n",
       "  </tbody>\n",
       "</table>\n",
       "<p>8 rows × 31 columns</p>\n",
       "</div>"
      ],
      "text/plain": [
       "         latitude   longitude  first_funding_age  last_funding_age   \n",
       "count  185.000000  185.000000         185.000000        185.000000  \\\n",
       "mean    38.353036 -106.431156           2.247569          3.955084   \n",
       "std      4.023591   21.964919           2.387700          2.782201   \n",
       "min     25.752358 -122.674195          -1.000000         -0.115100   \n",
       "25%     37.368830 -122.247573           0.465800          1.665800   \n",
       "50%     37.755068 -118.878852           1.309600          3.602700   \n",
       "75%     40.729839  -87.686634           3.786300          5.731500   \n",
       "max     59.335232   18.057121          11.145200         11.145200   \n",
       "\n",
       "       first_milestone_age  last_milestone_age  connections  funding_rounds   \n",
       "count           162.000000          162.000000   185.000000      185.000000  \\\n",
       "mean              2.909009            4.568756     7.735135        2.324324   \n",
       "std               2.874208            2.978603     6.473198        1.376315   \n",
       "min              -7.005500           -7.005500     0.000000        1.000000   \n",
       "25%               0.686950            2.395900     3.000000        1.000000   \n",
       "50%               2.342450            4.352050     6.000000        2.000000   \n",
       "75%               4.919150            6.567800    10.000000        3.000000   \n",
       "max              10.750700           11.874000    35.000000        7.000000   \n",
       "\n",
       "       total_funding  milestones  ...  is_ecommerce  is_biotech   \n",
       "count   1.850000e+02  185.000000  ...    185.000000  185.000000  \\\n",
       "mean    1.759276e+07    1.886486  ...      0.032432    0.027027   \n",
       "std     2.353837e+07    1.217214  ...      0.177626    0.162602   \n",
       "min     1.100000e+04    0.000000  ...      0.000000    0.000000   \n",
       "25%     2.250000e+06    1.000000  ...      0.000000    0.000000   \n",
       "50%     9.807367e+06    2.000000  ...      0.000000    0.000000   \n",
       "75%     2.490000e+07    3.000000  ...      0.000000    0.000000   \n",
       "max     1.480000e+08    6.000000  ...      1.000000    1.000000   \n",
       "\n",
       "       is_consulting  is_othercategory      roundA      roundB      roundC   \n",
       "count     185.000000        185.000000  185.000000  185.000000  185.000000  \\\n",
       "mean        0.005405          0.372973    0.486486    0.372973    0.237838   \n",
       "std         0.073521          0.484907    0.501174    0.484907    0.426915   \n",
       "min         0.000000          0.000000    0.000000    0.000000    0.000000   \n",
       "25%         0.000000          0.000000    0.000000    0.000000    0.000000   \n",
       "50%         0.000000          0.000000    0.000000    0.000000    0.000000   \n",
       "75%         0.000000          1.000000    1.000000    1.000000    0.000000   \n",
       "max         1.000000          1.000000    1.000000    1.000000    1.000000   \n",
       "\n",
       "           roundD  avg_group_size   in_Top500  \n",
       "count  185.000000      185.000000  185.000000  \n",
       "mean     0.075676        3.009010    0.789189  \n",
       "std      0.265196        2.045969    0.408991  \n",
       "min      0.000000        1.000000    0.000000  \n",
       "25%      0.000000        1.500000    1.000000  \n",
       "50%      0.000000        2.500000    1.000000  \n",
       "75%      0.000000        4.000000    1.000000  \n",
       "max      1.000000       11.500000    1.000000  \n",
       "\n",
       "[8 rows x 31 columns]"
      ]
     },
     "execution_count": 251,
     "metadata": {},
     "output_type": "execute_result"
    }
   ],
   "source": [
    "df.describe()"
   ]
  },
  {
   "cell_type": "code",
   "execution_count": 252,
   "metadata": {},
   "outputs": [
    {
     "data": {
      "text/plain": [
       "latitude                0.772549\n",
       "longitude               1.568565\n",
       "first_funding_age       1.203454\n",
       "last_funding_age        0.628019\n",
       "first_milestone_age     0.382130\n",
       "last_milestone_age     -0.052708\n",
       "connections             1.597376\n",
       "funding_rounds          1.156060\n",
       "total_funding           2.673773\n",
       "milestones              0.384187\n",
       "in_CA                  -0.434848\n",
       "in_NY                   2.456678\n",
       "in_MA                   3.756300\n",
       "in_TX                   4.527920\n",
       "in_otherstate           1.693994\n",
       "is_software             2.222008\n",
       "is_web                  2.022109\n",
       "is_mobile               3.094606\n",
       "is_enterprise           3.235052\n",
       "is_advertising          3.562508\n",
       "is_gamesvideo           3.562508\n",
       "is_ecommerce            5.322157\n",
       "is_biotech              5.881126\n",
       "is_consulting          13.601471\n",
       "is_othercategory        0.529649\n",
       "roundA                  0.054517\n",
       "roundB                  0.529649\n",
       "roundC                  1.241594\n",
       "roundD                  3.235052\n",
       "avg_group_size          1.336245\n",
       "in_Top500              -1.429614\n",
       "dtype: float64"
      ]
     },
     "execution_count": 252,
     "metadata": {},
     "output_type": "execute_result"
    }
   ],
   "source": [
    "numerics = ['int64', 'float64']\n",
    "df.select_dtypes(include=numerics).skew()"
   ]
  },
  {
   "attachments": {},
   "cell_type": "markdown",
   "metadata": {},
   "source": [
    "# Removing Unnessesery Attributes "
   ]
  },
  {
   "attachments": {},
   "cell_type": "markdown",
   "metadata": {},
   "source": [
    "The category attribute include all the other category type attributes like \"is_typeOfCategory\" therefore we chose to remove those attributes because we only need the category attribute"
   ]
  },
  {
   "cell_type": "code",
   "execution_count": 253,
   "metadata": {},
   "outputs": [],
   "source": [
    "df = df.drop(['is_software', 'is_web', 'is_mobile', 'is_enterprise', 'is_advertising',\n",
    "             'is_gamesvideo', 'is_ecommerce', 'is_biotech', 'is_consulting', 'is_othercategory'] , axis='columns')"
   ]
  },
  {
   "attachments": {},
   "cell_type": "markdown",
   "metadata": {},
   "source": [
    "Same as category the state_code attribute include all the other city type attributes like \"is_statecode\" therefore we removed those attributes"
   ]
  },
  {
   "cell_type": "code",
   "execution_count": 254,
   "metadata": {},
   "outputs": [],
   "source": [
    "df = df.drop(['in_CA', 'in_TX', 'in_NY', 'in_MA', 'in_otherstate'] , axis='columns')\n"
   ]
  },
  {
   "attachments": {},
   "cell_type": "markdown",
   "metadata": {},
   "source": [
    "Now, funding_age and funding_date are the same things given the foundation date, so we will drop the funding date attributes because working with the age from when the startup was founded does not affected by the current date"
   ]
  },
  {
   "cell_type": "code",
   "execution_count": 255,
   "metadata": {},
   "outputs": [],
   "source": [
    "df = df.drop(['first_funding_date', 'last_funding_date'] , axis='columns')"
   ]
  },
  {
   "attachments": {},
   "cell_type": "markdown",
   "metadata": {},
   "source": [
    "We will drop the id and name attributes as they do not contribute any additional data about the startup."
   ]
  },
  {
   "cell_type": "code",
   "execution_count": 256,
   "metadata": {},
   "outputs": [],
   "source": [
    "df = df.drop(['id', 'name'], axis='columns')"
   ]
  },
  {
   "attachments": {},
   "cell_type": "markdown",
   "metadata": {},
   "source": [
    "We will drop thezip_code attribute as we have the latitude and longitude that pin point exactly to the wanted location"
   ]
  },
  {
   "cell_type": "code",
   "execution_count": 257,
   "metadata": {},
   "outputs": [],
   "source": [
    "df = df.drop('zip_code', axis='columns')"
   ]
  },
  {
   "attachments": {},
   "cell_type": "markdown",
   "metadata": {},
   "source": [
    "# visualizations of data"
   ]
  },
  {
   "attachments": {},
   "cell_type": "markdown",
   "metadata": {},
   "source": [
    "we will present all the attributs distribution and fix the outliers in the next section"
   ]
  },
  {
   "cell_type": "code",
   "execution_count": 258,
   "metadata": {},
   "outputs": [],
   "source": [
    "# numerics = ['int64', 'float64']\n",
    "# df_numeric = df.select_dtypes(include=numerics)\n",
    "# df_numeric['Target'] = df['Target'].astype('category').cat.codes\n",
    "\n",
    "# fig, axes = plt.subplots(nrows=4, ncols=4, figsize=(20, 20), sharex=False, sharey=False)\n",
    "# axes = axes.ravel()  # array to 1D\n",
    "# cols = df_numeric.columns[:-1]  # create a list of dataframe columns to use\n",
    "\n",
    "# for col, ax in zip(cols, axes):\n",
    "#     data = df_numeric[[col, 'Target']]  # select the data\n",
    "#     sns.histplot(data=data, x=col, hue='Target', fill=True, ax=ax)\n",
    "#     ax.set(title=f'{col}', xlabel=None)\n",
    "    \n",
    "# fig.tight_layout()"
   ]
  },
  {
   "attachments": {},
   "cell_type": "markdown",
   "metadata": {},
   "source": [
    "# Data cleaning and Data reduction"
   ]
  },
  {
   "attachments": {},
   "cell_type": "markdown",
   "metadata": {},
   "source": [
    "We saw that the total founding attribute had a high skewness and by the graph of its distribution we saw that there was a small amount of very high values, so we dicided to remove this outliers"
   ]
  },
  {
   "cell_type": "code",
   "execution_count": 259,
   "metadata": {},
   "outputs": [],
   "source": [
    "# df = df.drop(df.loc[(df['total_funding']>1e8)].index)\n",
    "# sns.histplot(data=df, x='total_funding',  hue='Target')\n",
    "# # sns.histplot(data=df, x='total_funding')\n",
    "# df.info()"
   ]
  },
  {
   "attachments": {},
   "cell_type": "markdown",
   "metadata": {},
   "source": [
    "Now, we will just make sure that the last's ages are above the fisrt's ages and remove those who arent"
   ]
  },
  {
   "cell_type": "code",
   "execution_count": 260,
   "metadata": {},
   "outputs": [],
   "source": [
    "# df = df.drop(df.loc[df['last_funding_age'] < df['first_funding_age']].index)\n",
    "# df = df.drop(df.loc[df['last_milestone_age'] < df['first_milestone_age']].index)\n",
    "# df.info()"
   ]
  },
  {
   "attachments": {},
   "cell_type": "markdown",
   "metadata": {},
   "source": [
    "We noticed with the describe function that there is no negitive data that doesn't make sence.\n",
    "But we still have to check that there is no date's data that doesn't make sence."
   ]
  },
  {
   "cell_type": "code",
   "execution_count": 261,
   "metadata": {},
   "outputs": [],
   "source": [
    "# invalid_rows = []   \n",
    "# date_columns = ['foundation_date']\n",
    "# for index, row in df.iterrows():\n",
    "#     for column in date_columns:\n",
    "#         try:\n",
    "#             date_value = pd.to_datetime(row[column], format='%d/%m/%Y', errors='raise')\n",
    "#         except ValueError:\n",
    "#             invalid_rows.append(index)\n",
    "#             break\n",
    "# df = df.drop(invalid_rows)\n",
    "# df.info()"
   ]
  },
  {
   "attachments": {},
   "cell_type": "markdown",
   "metadata": {},
   "source": [
    "we will check any attriutes"
   ]
  },
  {
   "attachments": {},
   "cell_type": "markdown",
   "metadata": {},
   "source": [
    "We will show a nice scatter plot of the map of the startups "
   ]
  },
  {
   "cell_type": "code",
   "execution_count": 262,
   "metadata": {},
   "outputs": [],
   "source": [
    "# sns.scatterplot(data=df, x='longitude', y='latitude', hue='Target', palette=[\"green\", \"red\"])\n",
    "# # sns.scatterplot(data=df, x='longitude', y='latitude')"
   ]
  },
  {
   "attachments": {},
   "cell_type": "markdown",
   "metadata": {},
   "source": [
    "We will remove the blue outlier we can see in approx. (0,50)"
   ]
  },
  {
   "cell_type": "code",
   "execution_count": 263,
   "metadata": {},
   "outputs": [],
   "source": [
    "# df = df.drop(df.loc[(df['latitude'] > 50) | (df['longitude'] > -60)].index)\n",
    "# sns.scatterplot(data=df, x='longitude', y='latitude', hue='Target', palette=[\"green\", \"red\"])\n",
    "# # sns.scatterplot(data=df, x='longitude', y='latitude')\n",
    "# df.info()"
   ]
  },
  {
   "attachments": {},
   "cell_type": "markdown",
   "metadata": {},
   "source": [
    "We will check for abnormal values, by checking abnormality of 5 std"
   ]
  },
  {
   "cell_type": "code",
   "execution_count": 264,
   "metadata": {},
   "outputs": [],
   "source": [
    "# filtered_df = pd.DataFrame()\n",
    "# numerics = ['int64', 'float64']\n",
    "# df_numeric = df.select_dtypes(include=numerics)\n",
    "# col_list = df_numeric.columns\n",
    "# for col in col_list:\n",
    "#     col_mean = df[col].mean()\n",
    "#     col_std = df[col].std()\n",
    "#     lower_bound = col_mean - 5 * col_std\n",
    "#     upper_bound = col_mean + 5 * col_std\n",
    "#     column_filter = (df[col] > upper_bound) | (df[col] < lower_bound)\n",
    "#     column_filter &= ~df[col].isna()\n",
    "#     filtered_df = pd.concat([filtered_df, df[column_filter]], ignore_index=True)\n",
    "# filtered_df"
   ]
  },
  {
   "attachments": {},
   "cell_type": "markdown",
   "metadata": {},
   "source": [
    "We noticed that its only a small portion of the data so we decided to delete it "
   ]
  },
  {
   "cell_type": "code",
   "execution_count": 265,
   "metadata": {},
   "outputs": [],
   "source": [
    "# numerics = ['int64', 'float64']\n",
    "# df_numeric = df.select_dtypes(include=numerics)\n",
    "# col_list = df_numeric.columns\n",
    "# for col in col_list:\n",
    "#     col_mean = df[col].mean()\n",
    "#     col_std = df[col].std()\n",
    "#     lower_bound = col_mean - 5 * col_std\n",
    "#     upper_bound = col_mean + 5 * col_std\n",
    "#     column_filter = (df[col] <= upper_bound) & (df[col] >= lower_bound) | df[col].isna()\n",
    "#     df = df[column_filter]\n",
    "# df.info()"
   ]
  },
  {
   "attachments": {},
   "cell_type": "markdown",
   "metadata": {},
   "source": [
    "# Data transformation"
   ]
  },
  {
   "attachments": {},
   "cell_type": "markdown",
   "metadata": {},
   "source": [
    "we will convet the date's data that does make sence into integers which represent how many nanoseconds passed sence 1/1/1970"
   ]
  },
  {
   "cell_type": "code",
   "execution_count": 266,
   "metadata": {},
   "outputs": [],
   "source": [
    "df['foundation_date'] = pd.to_datetime(df['foundation_date'])\n",
    "min_date = df['foundation_date'].min()\n",
    "df['foundation_date'] = (df['foundation_date'] - min_date).dt.days"
   ]
  },
  {
   "attachments": {},
   "cell_type": "markdown",
   "metadata": {},
   "source": [
    "We noticed that the missing milestone age values are becuase there are no milestones so we dicided to fill them with zeros so PCA will work on them and we will still be able to classify which startups didn't have milestones "
   ]
  },
  {
   "cell_type": "code",
   "execution_count": 267,
   "metadata": {},
   "outputs": [],
   "source": [
    "df['first_milestone_age'] = df['first_milestone_age'].fillna(0)\n",
    "df['last_milestone_age'] = df['last_milestone_age'].fillna(0)"
   ]
  },
  {
   "attachments": {},
   "cell_type": "markdown",
   "metadata": {},
   "source": [
    "We will normalize the numeric attributes to values between 0 to 1 by min-max approach "
   ]
  },
  {
   "cell_type": "code",
   "execution_count": 268,
   "metadata": {},
   "outputs": [
    {
     "name": "stdout",
     "output_type": "stream",
     "text": [
      "size is : (185, 17)\n",
      "(185, 20)\n"
     ]
    }
   ],
   "source": [
    "# attributes_list = ['Target', 'category', 'city', 'state_code', 'foundation_date']\n",
    "attributes_list = ['category', 'city', 'state_code', 'foundation_date']\n",
    "numerics = ['int64', 'float64']\n",
    "new_df_numeric = df.select_dtypes(include=numerics)\n",
    "normalized_df = (new_df_numeric - new_df_numeric.min()) / (new_df_numeric.max() - new_df_numeric.min())\n",
    "print(\"size is :\", normalized_df.shape)\n",
    "for attr in attributes_list:\n",
    "    normalized_df[attr] = df[attr]\n",
    "print(normalized_df.shape)"
   ]
  },
  {
   "attachments": {},
   "cell_type": "markdown",
   "metadata": {},
   "source": [
    "In the category attribute there are many type of categorys so we chose to leave only the 8 most common categories and the others convert to \"other category\""
   ]
  },
  {
   "cell_type": "code",
   "execution_count": 269,
   "metadata": {},
   "outputs": [
    {
     "data": {
      "text/plain": [
       "<seaborn.axisgrid.FacetGrid at 0x2748dccfbd0>"
      ]
     },
     "execution_count": 269,
     "metadata": {},
     "output_type": "execute_result"
    },
    {
     "data": {
      "image/png": "[encoded data removed]",
      "text/plain": [
       "<Figure size 500x500 with 1 Axes>"
      ]
     },
     "metadata": {},
     "output_type": "display_data"
    }
   ],
   "source": [
    "list1 = normalized_df['category'].value_counts().index.tolist()\n",
    "normalized_df['category'].replace(list1[8:], 'other', inplace=True)\n",
    "normalized_df['category'].value_counts()\n",
    "# sns.catplot(data=normalized_df, y='category', hue= 'Target', kind='count')\n",
    "sns.catplot(data=normalized_df, y='category', kind='count')"
   ]
  },
  {
   "attachments": {},
   "cell_type": "markdown",
   "metadata": {},
   "source": [
    "We changed the category attribute from string to int"
   ]
  },
  {
   "cell_type": "code",
   "execution_count": 270,
   "metadata": {},
   "outputs": [
    {
     "data": {
      "text/plain": [
       "category\n",
       "0    62\n",
       "2    27\n",
       "5    24\n",
       "6    15\n",
       "1    14\n",
       "3    13\n",
       "7    12\n",
       "8    12\n",
       "4     6\n",
       "Name: count, dtype: int64"
      ]
     },
     "execution_count": 270,
     "metadata": {},
     "output_type": "execute_result"
    }
   ],
   "source": [
    "normalized_df['category'] = pd.factorize(normalized_df['category'])[0]\n",
    "normalized_df['category'].value_counts()"
   ]
  },
  {
   "attachments": {},
   "cell_type": "markdown",
   "metadata": {},
   "source": [
    "So as in the city and the state_code attributes there are many type of them so we chose to leave only the 10 most common state_codes and the 20 most common cities and convert the other to \"other\""
   ]
  },
  {
   "cell_type": "code",
   "execution_count": 271,
   "metadata": {},
   "outputs": [
    {
     "data": {
      "text/plain": [
       "<seaborn.axisgrid.FacetGrid at 0x2748d8322d0>"
      ]
     },
     "execution_count": 271,
     "metadata": {},
     "output_type": "execute_result"
    },
    {
     "data": {
      "image/png": "[encoded data removed]",
      "text/plain": [
       "<Figure size 500x500 with 1 Axes>"
      ]
     },
     "metadata": {},
     "output_type": "display_data"
    },
    {
     "data": {
      "image/png": "[encoded data removed]",
      "text/plain": [
       "<Figure size 500x500 with 1 Axes>"
      ]
     },
     "metadata": {},
     "output_type": "display_data"
    }
   ],
   "source": [
    "list1 = normalized_df['state_code'].value_counts().index.tolist()\n",
    "normalized_df['state_code'].replace(list1[10:], 'other', inplace=True)\n",
    "normalized_df['state_code'].value_counts()\n",
    "# sns.catplot(data=normalized_df, y='state_code', hue= 'Target', kind='count')\n",
    "sns.catplot(data=normalized_df, y='state_code', kind='count')\n",
    "\n",
    "list1 = normalized_df['city'].value_counts().index.tolist()\n",
    "normalized_df['city'].replace(list1[20:], 'other', inplace=True)\n",
    "normalized_df['city'].value_counts()\n",
    "# sns.catplot(data=normalized_df, y='city', hue= 'Target', kind='count')\n",
    "sns.catplot(data=normalized_df, y='city', kind='count')"
   ]
  },
  {
   "attachments": {},
   "cell_type": "markdown",
   "metadata": {},
   "source": [
    "We now changed the state code and the city attributes from string to int"
   ]
  },
  {
   "cell_type": "code",
   "execution_count": 272,
   "metadata": {},
   "outputs": [],
   "source": [
    "normalized_df['state_code'] = pd.factorize(normalized_df['state_code'])[0]\n",
    "normalized_df['city'] = pd.factorize(normalized_df['city'])[0]"
   ]
  },
  {
   "cell_type": "code",
   "execution_count": 273,
   "metadata": {},
   "outputs": [
    {
     "data": {
      "text/plain": [
       "city\n",
       "0     60\n",
       "2     28\n",
       "3     20\n",
       "13    10\n",
       "9      8\n",
       "11     8\n",
       "8      7\n",
       "17     6\n",
       "12     5\n",
       "4      4\n",
       "5      4\n",
       "7      4\n",
       "15     3\n",
       "10     3\n",
       "6      3\n",
       "14     2\n",
       "1      2\n",
       "16     2\n",
       "18     2\n",
       "19     2\n",
       "20     2\n",
       "Name: count, dtype: int64"
      ]
     },
     "execution_count": 273,
     "metadata": {},
     "output_type": "execute_result"
    }
   ],
   "source": [
    "normalized_df['state_code'].value_counts()\n",
    "normalized_df['city'].value_counts()"
   ]
  },
  {
   "attachments": {},
   "cell_type": "markdown",
   "metadata": {},
   "source": [
    "We changed the Target attribute to be binary 1 and 0"
   ]
  },
  {
   "cell_type": "code",
   "execution_count": 274,
   "metadata": {},
   "outputs": [],
   "source": [
    "# normalized_df['Target'] = normalized_df['Target'].astype('category').cat.codes"
   ]
  },
  {
   "attachments": {},
   "cell_type": "markdown",
   "metadata": {},
   "source": [
    "We want to look again at all the statists of the attributes"
   ]
  },
  {
   "cell_type": "code",
   "execution_count": 275,
   "metadata": {},
   "outputs": [],
   "source": [
    "# df_numeric = normalized_df.select_dtypes(include=numerics)\n",
    "# df_numeric['Target'] = normalized_df['Target'].astype('category').cat.codes\n",
    "\n",
    "# fig, axes = plt.subplots(nrows=5, ncols=4, figsize=(20, 20), sharex=False, sharey=False)\n",
    "# axes = axes.ravel()  # array to 1D\n",
    "# cols = df_numeric.columns[:-1]  # create a list of dataframe columns to use\n",
    "\n",
    "# for col, ax in zip(cols, axes):\n",
    "#     data = df_numeric[[col, 'Target']]  # select the data\n",
    "#     sns.histplot(data=data, x=col, hue='Target', fill=True, ax=ax)\n",
    "#     ax.set(title=f'{col}', xlabel=None)\n",
    "\n",
    "# ###fig.delaxes(axes[18])  # delete the empty subplot\n",
    "# ###fig.delaxes(axes[19])  # delete the empty subplot\n",
    "# fig.tight_layout()"
   ]
  },
  {
   "cell_type": "code",
   "execution_count": 276,
   "metadata": {},
   "outputs": [],
   "source": [
    "normalized_df.to_csv('test_preprocessed.csv')"
   ]
  },
  {
   "attachments": {},
   "cell_type": "markdown",
   "metadata": {},
   "source": [
    "# Attributes correlations"
   ]
  },
  {
   "cell_type": "code",
   "execution_count": 277,
   "metadata": {},
   "outputs": [],
   "source": [
    "# normalized_df.corr(method = 'pearson')\n",
    "# f, ax = plt.subplots(figsize=(8, 7))\n",
    "# ax = sns.heatmap(normalized_df.corr(), annot = True, vmin=-1, vmax=1, center= 0,\n",
    "#             cmap= \"RdGy\", linewidths=0.5, linecolor='black', annot_kws={'fontsize':8}, fmt='.2f')"
   ]
  },
  {
   "attachments": {},
   "cell_type": "markdown",
   "metadata": {},
   "source": [
    "# Intresting relations visualizations"
   ]
  },
  {
   "attachments": {},
   "cell_type": "markdown",
   "metadata": {},
   "source": [
    "We want to see if having lots of connections affect the probability for the startup to success"
   ]
  },
  {
   "cell_type": "code",
   "execution_count": 278,
   "metadata": {},
   "outputs": [],
   "source": [
    "# sns.boxplot(data=normalized_df, x=\"Target\", y=\"connections\")"
   ]
  },
  {
   "attachments": {},
   "cell_type": "markdown",
   "metadata": {},
   "source": [
    "We saw surprisingly high corraltion between milestone and connnection atrribute"
   ]
  },
  {
   "cell_type": "code",
   "execution_count": 279,
   "metadata": {},
   "outputs": [],
   "source": [
    "# grid = sns.FacetGrid(normalized_df, col=\"milestones\")\n",
    "# grid.map(sns.histplot, \"connections\")\n",
    "# grid.add_legend"
   ]
  },
  {
   "attachments": {},
   "cell_type": "markdown",
   "metadata": {},
   "source": [
    "We saw as expect high corraltion between funding_rounds and total_funding"
   ]
  },
  {
   "cell_type": "code",
   "execution_count": 280,
   "metadata": {},
   "outputs": [],
   "source": [
    "# sns.boxplot(data=normalized_df, x='funding_rounds', y='total_funding')"
   ]
  },
  {
   "attachments": {},
   "cell_type": "markdown",
   "metadata": {},
   "source": [
    "We saw as expected that there was a corraltion between the ages attributes so we will show th in distribution graphsere distrbit"
   ]
  },
  {
   "cell_type": "code",
   "execution_count": 281,
   "metadata": {},
   "outputs": [],
   "source": [
    "# df_ages = normalized_df[[\"first_funding_age\", \"last_funding_age\", \"first_milestone_age\", \"last_milestone_age\", \"Target\"]]\n",
    "# fig, axes = plt.subplots(nrows=1, ncols=4, figsize=(20, 5), sharex=False, sharey=False)\n",
    "# axes = axes.ravel()  # array to 1D\n",
    "# cols = df_ages.columns[:-1]  # create a list of dataframe columns to use\n",
    "\n",
    "# for col, ax in zip(cols, axes):\n",
    "#     data = df_ages[[col, 'Target']]  # select the data\n",
    "#     sns.kdeplot(data=data, x=col, hue='Target', fill=True, ax=ax)\n",
    "#     ax.set(title=f'{col}', xlabel=None)\n",
    "\n",
    "# fig.tight_layout()"
   ]
  },
  {
   "attachments": {},
   "cell_type": "markdown",
   "metadata": {},
   "source": [
    "# PCA"
   ]
  },
  {
   "attachments": {},
   "cell_type": "markdown",
   "metadata": {},
   "source": [
    "We will do the PCA algorithm and show its results in a graph"
   ]
  },
  {
   "cell_type": "code",
   "execution_count": 282,
   "metadata": {},
   "outputs": [],
   "source": [
    "# pca = PCA(n_components = 0.99, svd_solver = 'full') \n",
    "# pca.fit(normalized_df, y='Target')\n",
    "# df2 = pd.DataFrame(pca.transform(normalized_df))"
   ]
  },
  {
   "cell_type": "code",
   "execution_count": 283,
   "metadata": {},
   "outputs": [],
   "source": [
    "# colordict = {0: 'rebeccapurple', 1: 'g'}\n",
    "# plt.scatter(df2[2], df2[2], c = normalized_df['Target'].map(colordict))"
   ]
  }
 ],
 "metadata": {
  "kernelspec": {
   "display_name": "Python 3",
   "language": "python",
   "name": "python3"
  },
  "language_info": {
   "codemirror_mode": {
    "name": "ipython",
    "version": 3
   },
   "file_extension": ".py",
   "mimetype": "text/x-python",
   "name": "python",
   "nbconvert_exporter": "python",
   "pygments_lexer": "ipython3",
   "version": "3.11.3"
  },
  "orig_nbformat": 4
 },
 "nbformat": 4,
 "nbformat_minor": 2
}
