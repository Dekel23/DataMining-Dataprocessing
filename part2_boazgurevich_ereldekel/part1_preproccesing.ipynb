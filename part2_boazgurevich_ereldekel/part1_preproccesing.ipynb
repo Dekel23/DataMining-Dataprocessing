{
 "cells": [
  {
   "cell_type": "code",
   "execution_count": 45,
   "metadata": {},
   "outputs": [],
   "source": [
    "import pandas as pd\n",
    "import numpy as np\n",
    "import seaborn as sns \n",
    "import matplotlib.pyplot as plt\n",
    "from sklearn.decomposition import PCA\n",
    "from datetime import datetime"
   ]
  },
  {
   "attachments": {},
   "cell_type": "markdown",
   "metadata": {},
   "source": [
    "# Presentation of Data"
   ]
  },
  {
   "cell_type": "code",
   "execution_count": 46,
   "metadata": {},
   "outputs": [
    {
     "name": "stdout",
     "output_type": "stream",
     "text": [
      "<class 'pandas.core.frame.DataFrame'>\n",
      "RangeIndex: 185 entries, 0 to 184\n",
      "Data columns (total 40 columns):\n",
      " #   Column               Non-Null Count  Dtype  \n",
      "---  ------               --------------  -----  \n",
      " 0   id                   185 non-null    object \n",
      " 1   state_code           185 non-null    object \n",
      " 2   latitude             185 non-null    float64\n",
      " 3   longitude            185 non-null    float64\n",
      " 4   zip_code             185 non-null    object \n",
      " 5   city                 185 non-null    object \n",
      " 6   name                 185 non-null    object \n",
      " 7   foundation_date      185 non-null    object \n",
      " 8   first_funding_date   185 non-null    object \n",
      " 9   last_funding_date    185 non-null    object \n",
      " 10  first_funding_age    185 non-null    float64\n",
      " 11  last_funding_age     185 non-null    float64\n",
      " 12  first_milestone_age  162 non-null    float64\n",
      " 13  last_milestone_age   162 non-null    float64\n",
      " 14  connections          185 non-null    int64  \n",
      " 15  funding_rounds       185 non-null    int64  \n",
      " 16  total_funding        185 non-null    int64  \n",
      " 17  milestones           185 non-null    int64  \n",
      " 18  in_CA                185 non-null    int64  \n",
      " 19  in_NY                185 non-null    int64  \n",
      " 20  in_MA                185 non-null    int64  \n",
      " 21  in_TX                185 non-null    int64  \n",
      " 22  in_otherstate        185 non-null    int64  \n",
      " 23  category             185 non-null    object \n",
      " 24  is_software          185 non-null    int64  \n",
      " 25  is_web               185 non-null    int64  \n",
      " 26  is_mobile            185 non-null    int64  \n",
      " 27  is_enterprise        185 non-null    int64  \n",
      " 28  is_advertising       185 non-null    int64  \n",
      " 29  is_gamesvideo        185 non-null    int64  \n",
      " 30  is_ecommerce         185 non-null    int64  \n",
      " 31  is_biotech           185 non-null    int64  \n",
      " 32  is_consulting        185 non-null    int64  \n",
      " 33  is_othercategory     185 non-null    int64  \n",
      " 34  roundA               185 non-null    int64  \n",
      " 35  roundB               185 non-null    int64  \n",
      " 36  roundC               185 non-null    int64  \n",
      " 37  roundD               185 non-null    int64  \n",
      " 38  avg_group_size       185 non-null    float64\n",
      " 39  in_Top500            185 non-null    int64  \n",
      "dtypes: float64(7), int64(24), object(9)\n",
      "memory usage: 57.9+ KB\n"
     ]
    }
   ],
   "source": [
    "df = pd.read_csv(\"./test_dataset.csv\")\n",
    "df.info()"
   ]
  },
  {
   "cell_type": "code",
   "execution_count": 47,
   "metadata": {},
   "outputs": [],
   "source": [
    "#df.head()"
   ]
  },
  {
   "attachments": {},
   "cell_type": "markdown",
   "metadata": {},
   "source": [
    "# Presentation of Statistics"
   ]
  },
  {
   "cell_type": "code",
   "execution_count": 48,
   "metadata": {},
   "outputs": [],
   "source": [
    "#df.describe()"
   ]
  },
  {
   "cell_type": "code",
   "execution_count": 49,
   "metadata": {},
   "outputs": [],
   "source": [
    "#numerics = ['int64', 'float64']\n",
    "#df.select_dtypes(include=numerics).skew()"
   ]
  },
  {
   "attachments": {},
   "cell_type": "markdown",
   "metadata": {},
   "source": [
    "# Removing Unnessesery Attributes "
   ]
  },
  {
   "attachments": {},
   "cell_type": "markdown",
   "metadata": {},
   "source": [
    "The category attribute include all the other category type attributes like \"is_typeOfCategory\" therefore we chose to remove those attributes because we only need the category attribute"
   ]
  },
  {
   "cell_type": "code",
   "execution_count": 50,
   "metadata": {},
   "outputs": [],
   "source": [
    "df = df.drop(['is_software', 'is_web', 'is_mobile', 'is_enterprise', 'is_advertising',\n",
    "             'is_gamesvideo', 'is_ecommerce', 'is_biotech', 'is_consulting', 'is_othercategory'] , axis='columns')"
   ]
  },
  {
   "attachments": {},
   "cell_type": "markdown",
   "metadata": {},
   "source": [
    "Same as category the state_code attribute include all the other city type attributes like \"is_statecode\" therefore we removed those attributes"
   ]
  },
  {
   "cell_type": "code",
   "execution_count": 51,
   "metadata": {},
   "outputs": [],
   "source": [
    "df = df.drop(['in_CA', 'in_TX', 'in_NY', 'in_MA', 'in_otherstate'] , axis='columns')\n"
   ]
  },
  {
   "attachments": {},
   "cell_type": "markdown",
   "metadata": {},
   "source": [
    "Now, funding_age and funding_date are the same things given the foundation date, so we will drop the funding date attributes because working with the age from when the startup was founded does not affected by the current date"
   ]
  },
  {
   "cell_type": "code",
   "execution_count": 52,
   "metadata": {},
   "outputs": [],
   "source": [
    "df = df.drop(['first_funding_date', 'last_funding_date'] , axis='columns')"
   ]
  },
  {
   "attachments": {},
   "cell_type": "markdown",
   "metadata": {},
   "source": [
    "We will drop the id and name attributes as they do not contribute any additional data about the startup."
   ]
  },
  {
   "cell_type": "code",
   "execution_count": 53,
   "metadata": {},
   "outputs": [],
   "source": [
    "df = df.drop(['id', 'name'], axis='columns')"
   ]
  },
  {
   "attachments": {},
   "cell_type": "markdown",
   "metadata": {},
   "source": [
    "We will drop thezip_code attribute as we have the latitude and longitude that pin point exactly to the wanted location"
   ]
  },
  {
   "cell_type": "code",
   "execution_count": 54,
   "metadata": {},
   "outputs": [],
   "source": [
    "df = df.drop('zip_code', axis='columns')"
   ]
  },
  {
   "attachments": {},
   "cell_type": "markdown",
   "metadata": {},
   "source": [
    "# visualizations of data"
   ]
  },
  {
   "attachments": {},
   "cell_type": "markdown",
   "metadata": {},
   "source": [
    "we will present all the attributs distribution and fix the outliers in the next section"
   ]
  },
  {
   "cell_type": "code",
   "execution_count": 55,
   "metadata": {},
   "outputs": [],
   "source": [
    "# numerics = ['int64', 'float64']\n",
    "# df_numeric = df.select_dtypes(include=numerics)\n",
    "# df_numeric['Target'] = df['Target'].astype('category').cat.codes\n",
    "\n",
    "# fig, axes = plt.subplots(nrows=4, ncols=4, figsize=(20, 20), sharex=False, sharey=False)\n",
    "# axes = axes.ravel()  # array to 1D\n",
    "# cols = df_numeric.columns[:-1]  # create a list of dataframe columns to use\n",
    "\n",
    "# for col, ax in zip(cols, axes):\n",
    "#     data = df_numeric[[col, 'Target']]  # select the data\n",
    "#     sns.histplot(data=data, x=col, hue='Target', fill=True, ax=ax)\n",
    "#     ax.set(title=f'{col}', xlabel=None)\n",
    "    \n",
    "# fig.tight_layout()"
   ]
  },
  {
   "attachments": {},
   "cell_type": "markdown",
   "metadata": {},
   "source": [
    "# Data cleaning and Data reduction"
   ]
  },
  {
   "attachments": {},
   "cell_type": "markdown",
   "metadata": {},
   "source": [
    "We saw that the total founding attribute had a high skewness and by the graph of its distribution we saw that there was a small amount of very high values, so we dicided to remove this outliers"
   ]
  },
  {
   "cell_type": "code",
   "execution_count": 62,
   "metadata": {},
   "outputs": [
    {
     "name": "stdout",
     "output_type": "stream",
     "text": [
      "<class 'pandas.core.frame.DataFrame'>\n",
      "Index: 173 entries, 0 to 184\n",
      "Data columns (total 20 columns):\n",
      " #   Column               Non-Null Count  Dtype  \n",
      "---  ------               --------------  -----  \n",
      " 0   state_code           173 non-null    object \n",
      " 1   latitude             173 non-null    float64\n",
      " 2   longitude            173 non-null    float64\n",
      " 3   city                 173 non-null    object \n",
      " 4   foundation_date      173 non-null    object \n",
      " 5   first_funding_age    173 non-null    float64\n",
      " 6   last_funding_age     173 non-null    float64\n",
      " 7   first_milestone_age  152 non-null    float64\n",
      " 8   last_milestone_age   152 non-null    float64\n",
      " 9   connections          173 non-null    int64  \n",
      " 10  funding_rounds       173 non-null    int64  \n",
      " 11  total_funding        173 non-null    int64  \n",
      " 12  milestones           173 non-null    int64  \n",
      " 13  category             173 non-null    object \n",
      " 14  roundA               173 non-null    int64  \n",
      " 15  roundB               173 non-null    int64  \n",
      " 16  roundC               173 non-null    int64  \n",
      " 17  roundD               173 non-null    int64  \n",
      " 18  avg_group_size       173 non-null    float64\n",
      " 19  in_Top500            173 non-null    int64  \n",
      "dtypes: float64(7), int64(9), object(4)\n",
      "memory usage: 28.4+ KB\n"
     ]
    },
    {
     "data": {
      "image/png": "[encoded data removed]",
      "text/plain": [
       "<Figure size 640x480 with 1 Axes>"
      ]
     },
     "metadata": {},
     "output_type": "display_data"
    }
   ],
   "source": [
    "df = df.drop(df.loc[(df['total_funding']>1e8)].index)\n",
    "#sns.histplot(data=df, x='total_funding',  hue='Target')\n",
    "sns.histplot(data=df, x='total_funding')\n",
    "df.info()"
   ]
  },
  {
   "attachments": {},
   "cell_type": "markdown",
   "metadata": {},
   "source": [
    "Now, we will just make sure that the last's ages are above the fisrt's ages and remove those who arent"
   ]
  },
  {
   "cell_type": "code",
   "execution_count": 58,
   "metadata": {},
   "outputs": [
    {
     "name": "stdout",
     "output_type": "stream",
     "text": [
      "<class 'pandas.core.frame.DataFrame'>\n",
      "Index: 181 entries, 0 to 184\n",
      "Data columns (total 20 columns):\n",
      " #   Column               Non-Null Count  Dtype  \n",
      "---  ------               --------------  -----  \n",
      " 0   state_code           181 non-null    object \n",
      " 1   latitude             181 non-null    float64\n",
      " 2   longitude            181 non-null    float64\n",
      " 3   city                 181 non-null    object \n",
      " 4   foundation_date      181 non-null    object \n",
      " 5   first_funding_age    181 non-null    float64\n",
      " 6   last_funding_age     181 non-null    float64\n",
      " 7   first_milestone_age  159 non-null    float64\n",
      " 8   last_milestone_age   159 non-null    float64\n",
      " 9   connections          181 non-null    int64  \n",
      " 10  funding_rounds       181 non-null    int64  \n",
      " 11  total_funding        181 non-null    int64  \n",
      " 12  milestones           181 non-null    int64  \n",
      " 13  category             181 non-null    object \n",
      " 14  roundA               181 non-null    int64  \n",
      " 15  roundB               181 non-null    int64  \n",
      " 16  roundC               181 non-null    int64  \n",
      " 17  roundD               181 non-null    int64  \n",
      " 18  avg_group_size       181 non-null    float64\n",
      " 19  in_Top500            181 non-null    int64  \n",
      "dtypes: float64(7), int64(9), object(4)\n",
      "memory usage: 29.7+ KB\n"
     ]
    }
   ],
   "source": [
    "df = df.drop(df.loc[df['last_funding_age'] < df['first_funding_age']].index)\n",
    "df = df.drop(df.loc[df['last_milestone_age'] < df['first_milestone_age']].index)\n",
    "df.info()"
   ]
  },
  {
   "attachments": {},
   "cell_type": "markdown",
   "metadata": {},
   "source": [
    "We noticed with the describe function that there is no negitive data that doesn't make sence.\n",
    "But we still have to check that there is no date's data that doesn't make sence."
   ]
  },
  {
   "cell_type": "code",
   "execution_count": 59,
   "metadata": {},
   "outputs": [
    {
     "name": "stdout",
     "output_type": "stream",
     "text": [
      "<class 'pandas.core.frame.DataFrame'>\n",
      "Index: 173 entries, 0 to 184\n",
      "Data columns (total 20 columns):\n",
      " #   Column               Non-Null Count  Dtype  \n",
      "---  ------               --------------  -----  \n",
      " 0   state_code           173 non-null    object \n",
      " 1   latitude             173 non-null    float64\n",
      " 2   longitude            173 non-null    float64\n",
      " 3   city                 173 non-null    object \n",
      " 4   foundation_date      173 non-null    object \n",
      " 5   first_funding_age    173 non-null    float64\n",
      " 6   last_funding_age     173 non-null    float64\n",
      " 7   first_milestone_age  152 non-null    float64\n",
      " 8   last_milestone_age   152 non-null    float64\n",
      " 9   connections          173 non-null    int64  \n",
      " 10  funding_rounds       173 non-null    int64  \n",
      " 11  total_funding        173 non-null    int64  \n",
      " 12  milestones           173 non-null    int64  \n",
      " 13  category             173 non-null    object \n",
      " 14  roundA               173 non-null    int64  \n",
      " 15  roundB               173 non-null    int64  \n",
      " 16  roundC               173 non-null    int64  \n",
      " 17  roundD               173 non-null    int64  \n",
      " 18  avg_group_size       173 non-null    float64\n",
      " 19  in_Top500            173 non-null    int64  \n",
      "dtypes: float64(7), int64(9), object(4)\n",
      "memory usage: 28.4+ KB\n"
     ]
    }
   ],
   "source": [
    "invalid_rows = []   \n",
    "date_columns = ['foundation_date']\n",
    "for index, row in df.iterrows():\n",
    "    for column in date_columns:\n",
    "        try:\n",
    "            date_value = pd.to_datetime(row[column], format='%d/%m/%Y', errors='raise')\n",
    "        except ValueError:\n",
    "            invalid_rows.append(index)\n",
    "            break\n",
    "df = df.drop(invalid_rows)\n",
    "df.info()"
   ]
  },
  {
   "attachments": {},
   "cell_type": "markdown",
   "metadata": {},
   "source": [
    "we will check any attriutes"
   ]
  },
  {
   "attachments": {},
   "cell_type": "markdown",
   "metadata": {},
   "source": [
    "We will show a nice scatter plot of the map of the startups "
   ]
  },
  {
   "cell_type": "code",
   "execution_count": 61,
   "metadata": {},
   "outputs": [
    {
     "data": {
      "text/plain": [
       "<Axes: xlabel='longitude', ylabel='latitude'>"
      ]
     },
     "execution_count": 61,
     "metadata": {},
     "output_type": "execute_result"
    },
    {
     "data": {
      "image/png": "[encoded data removed]",
      "text/plain": [
       "<Figure size 640x480 with 1 Axes>"
      ]
     },
     "metadata": {},
     "output_type": "display_data"
    }
   ],
   "source": [
    "#sns.scatterplot(data=df, x='longitude', y='latitude', hue='Target', palette=[\"green\", \"red\"])\n",
    "sns.scatterplot(data=df, x='longitude', y='latitude')"
   ]
  },
  {
   "attachments": {},
   "cell_type": "markdown",
   "metadata": {},
   "source": [
    "We will remove the blue outlier we can see in approx. (0,50)"
   ]
  },
  {
   "cell_type": "code",
   "execution_count": 63,
   "metadata": {},
   "outputs": [
    {
     "name": "stdout",
     "output_type": "stream",
     "text": [
      "<class 'pandas.core.frame.DataFrame'>\n",
      "Index: 172 entries, 0 to 184\n",
      "Data columns (total 20 columns):\n",
      " #   Column               Non-Null Count  Dtype  \n",
      "---  ------               --------------  -----  \n",
      " 0   state_code           172 non-null    object \n",
      " 1   latitude             172 non-null    float64\n",
      " 2   longitude            172 non-null    float64\n",
      " 3   city                 172 non-null    object \n",
      " 4   foundation_date      172 non-null    object \n",
      " 5   first_funding_age    172 non-null    float64\n",
      " 6   last_funding_age     172 non-null    float64\n",
      " 7   first_milestone_age  152 non-null    float64\n",
      " 8   last_milestone_age   152 non-null    float64\n",
      " 9   connections          172 non-null    int64  \n",
      " 10  funding_rounds       172 non-null    int64  \n",
      " 11  total_funding        172 non-null    int64  \n",
      " 12  milestones           172 non-null    int64  \n",
      " 13  category             172 non-null    object \n",
      " 14  roundA               172 non-null    int64  \n",
      " 15  roundB               172 non-null    int64  \n",
      " 16  roundC               172 non-null    int64  \n",
      " 17  roundD               172 non-null    int64  \n",
      " 18  avg_group_size       172 non-null    float64\n",
      " 19  in_Top500            172 non-null    int64  \n",
      "dtypes: float64(7), int64(9), object(4)\n",
      "memory usage: 28.2+ KB\n"
     ]
    },
    {
     "data": {
      "image/png": "[encoded data removed]",
      "text/plain": [
       "<Figure size 640x480 with 1 Axes>"
      ]
     },
     "metadata": {},
     "output_type": "display_data"
    }
   ],
   "source": [
    "df = df.drop(df.loc[(df['latitude'] > 50) | (df['longitude'] > -60)].index)\n",
    "#sns.scatterplot(data=df, x='longitude', y='latitude', hue='Target', palette=[\"green\", \"red\"])\n",
    "sns.scatterplot(data=df, x='longitude', y='latitude')\n",
    "df.info()"
   ]
  },
  {
   "attachments": {},
   "cell_type": "markdown",
   "metadata": {},
   "source": [
    "We will check for abnormal values, by checking abnormality of 5 std"
   ]
  },
  {
   "cell_type": "code",
   "execution_count": 64,
   "metadata": {},
   "outputs": [
    {
     "data": {
      "text/html": [
       "<div>\n",
       "<style scoped>\n",
       "    .dataframe tbody tr th:only-of-type {\n",
       "        vertical-align: middle;\n",
       "    }\n",
       "\n",
       "    .dataframe tbody tr th {\n",
       "        vertical-align: top;\n",
       "    }\n",
       "\n",
       "    .dataframe thead th {\n",
       "        text-align: right;\n",
       "    }\n",
       "</style>\n",
       "<table border=\"1\" class=\"dataframe\">\n",
       "  <thead>\n",
       "    <tr style=\"text-align: right;\">\n",
       "      <th></th>\n",
       "      <th>state_code</th>\n",
       "      <th>latitude</th>\n",
       "      <th>longitude</th>\n",
       "      <th>city</th>\n",
       "      <th>foundation_date</th>\n",
       "      <th>first_funding_age</th>\n",
       "      <th>last_funding_age</th>\n",
       "      <th>first_milestone_age</th>\n",
       "      <th>last_milestone_age</th>\n",
       "      <th>connections</th>\n",
       "      <th>funding_rounds</th>\n",
       "      <th>total_funding</th>\n",
       "      <th>milestones</th>\n",
       "      <th>category</th>\n",
       "      <th>roundA</th>\n",
       "      <th>roundB</th>\n",
       "      <th>roundC</th>\n",
       "      <th>roundD</th>\n",
       "      <th>avg_group_size</th>\n",
       "      <th>in_Top500</th>\n",
       "    </tr>\n",
       "  </thead>\n",
       "  <tbody>\n",
       "  </tbody>\n",
       "</table>\n",
       "</div>"
      ],
      "text/plain": [
       "Empty DataFrame\n",
       "Columns: [state_code, latitude, longitude, city, foundation_date, first_funding_age, last_funding_age, first_milestone_age, last_milestone_age, connections, funding_rounds, total_funding, milestones, category, roundA, roundB, roundC, roundD, avg_group_size, in_Top500]\n",
       "Index: []"
      ]
     },
     "execution_count": 64,
     "metadata": {},
     "output_type": "execute_result"
    }
   ],
   "source": [
    "filtered_df = pd.DataFrame()\n",
    "numerics = ['int64', 'float64']\n",
    "df_numeric = df.select_dtypes(include=numerics)\n",
    "col_list = df_numeric.columns\n",
    "for col in col_list:\n",
    "    col_mean = df[col].mean()\n",
    "    col_std = df[col].std()\n",
    "    lower_bound = col_mean - 5 * col_std\n",
    "    upper_bound = col_mean + 5 * col_std\n",
    "    column_filter = (df[col] > upper_bound) | (df[col] < lower_bound)\n",
    "    column_filter &= ~df[col].isna()\n",
    "    filtered_df = pd.concat([filtered_df, df[column_filter]], ignore_index=True)\n",
    "filtered_df"
   ]
  },
  {
   "attachments": {},
   "cell_type": "markdown",
   "metadata": {},
   "source": [
    "We noticed that its only a small portion of the data so we decided to delete it "
   ]
  },
  {
   "cell_type": "code",
   "execution_count": 65,
   "metadata": {},
   "outputs": [
    {
     "name": "stdout",
     "output_type": "stream",
     "text": [
      "<class 'pandas.core.frame.DataFrame'>\n",
      "Index: 172 entries, 0 to 184\n",
      "Data columns (total 20 columns):\n",
      " #   Column               Non-Null Count  Dtype  \n",
      "---  ------               --------------  -----  \n",
      " 0   state_code           172 non-null    object \n",
      " 1   latitude             172 non-null    float64\n",
      " 2   longitude            172 non-null    float64\n",
      " 3   city                 172 non-null    object \n",
      " 4   foundation_date      172 non-null    object \n",
      " 5   first_funding_age    172 non-null    float64\n",
      " 6   last_funding_age     172 non-null    float64\n",
      " 7   first_milestone_age  152 non-null    float64\n",
      " 8   last_milestone_age   152 non-null    float64\n",
      " 9   connections          172 non-null    int64  \n",
      " 10  funding_rounds       172 non-null    int64  \n",
      " 11  total_funding        172 non-null    int64  \n",
      " 12  milestones           172 non-null    int64  \n",
      " 13  category             172 non-null    object \n",
      " 14  roundA               172 non-null    int64  \n",
      " 15  roundB               172 non-null    int64  \n",
      " 16  roundC               172 non-null    int64  \n",
      " 17  roundD               172 non-null    int64  \n",
      " 18  avg_group_size       172 non-null    float64\n",
      " 19  in_Top500            172 non-null    int64  \n",
      "dtypes: float64(7), int64(9), object(4)\n",
      "memory usage: 28.2+ KB\n"
     ]
    }
   ],
   "source": [
    "numerics = ['int64', 'float64']\n",
    "df_numeric = df.select_dtypes(include=numerics)\n",
    "col_list = df_numeric.columns\n",
    "for col in col_list:\n",
    "    col_mean = df[col].mean()\n",
    "    col_std = df[col].std()\n",
    "    lower_bound = col_mean - 5 * col_std\n",
    "    upper_bound = col_mean + 5 * col_std\n",
    "    column_filter = (df[col] <= upper_bound) & (df[col] >= lower_bound) | df[col].isna()\n",
    "    df = df[column_filter]\n",
    "df.info()"
   ]
  },
  {
   "attachments": {},
   "cell_type": "markdown",
   "metadata": {},
   "source": [
    "# Data transformation"
   ]
  },
  {
   "attachments": {},
   "cell_type": "markdown",
   "metadata": {},
   "source": [
    "we will convet the date's data that does make sence into integers which represent how many nanoseconds passed sence 1/1/1970"
   ]
  },
  {
   "cell_type": "code",
   "execution_count": 66,
   "metadata": {},
   "outputs": [],
   "source": [
    "df['foundation_date'] = pd.to_datetime(df['foundation_date'], format='%d/%m/%Y').astype('int64')"
   ]
  },
  {
   "attachments": {},
   "cell_type": "markdown",
   "metadata": {},
   "source": [
    "We noticed that the missing milestone age values are becuase there are no milestones so we dicided to fill them with zeros so PCA will work on them and we will still be able to classify which startups didn't have milestones "
   ]
  },
  {
   "cell_type": "code",
   "execution_count": 67,
   "metadata": {},
   "outputs": [],
   "source": [
    "df['first_milestone_age'] = df['first_milestone_age'].fillna(0)\n",
    "df['last_milestone_age'] = df['last_milestone_age'].fillna(0)"
   ]
  },
  {
   "attachments": {},
   "cell_type": "markdown",
   "metadata": {},
   "source": [
    "We will normalize the numeric attributes to values between 0 to 1 by min-max approach "
   ]
  },
  {
   "cell_type": "code",
   "execution_count": 70,
   "metadata": {},
   "outputs": [
    {
     "name": "stdout",
     "output_type": "stream",
     "text": [
      "size is : (172, 17)\n",
      "(172, 20)\n"
     ]
    }
   ],
   "source": [
    "#attributes_list = ['Target', 'category', 'city', 'state_code']\n",
    "attributes_list = ['category', 'city', 'state_code']\n",
    "numerics = ['int64', 'float64']\n",
    "new_df_numeric = df.select_dtypes(include=numerics)\n",
    "normalized_df = (new_df_numeric - new_df_numeric.min()) / (new_df_numeric.max() - new_df_numeric.min())\n",
    "print(\"size is :\", normalized_df.shape)\n",
    "for attr in attributes_list:\n",
    "    normalized_df[attr] = df[attr]\n",
    "print(normalized_df.shape)"
   ]
  },
  {
   "attachments": {},
   "cell_type": "markdown",
   "metadata": {},
   "source": [
    "In the category attribute there are many type of categorys so we chose to leave only the 8 most common categories and the others convert to \"other category\""
   ]
  },
  {
   "cell_type": "code",
   "execution_count": 72,
   "metadata": {},
   "outputs": [
    {
     "data": {
      "text/plain": [
       "<seaborn.axisgrid.FacetGrid at 0x1f021eacf10>"
      ]
     },
     "execution_count": 72,
     "metadata": {},
     "output_type": "execute_result"
    },
    {
     "data": {
      "image/png": "[encoded data removed]",
      "text/plain": [
       "<Figure size 500x500 with 1 Axes>"
      ]
     },
     "metadata": {},
     "output_type": "display_data"
    }
   ],
   "source": [
    "list1 = normalized_df['category'].value_counts().index.tolist()\n",
    "normalized_df['category'].replace(list1[8:], 'other', inplace=True)\n",
    "normalized_df['category'].value_counts()\n",
    "sns.catplot(data=normalized_df, y='category', kind='count')"
   ]
  },
  {
   "attachments": {},
   "cell_type": "markdown",
   "metadata": {},
   "source": [
    "We changed the category attribute from string to int"
   ]
  },
  {
   "cell_type": "code",
   "execution_count": 73,
   "metadata": {},
   "outputs": [
    {
     "data": {
      "text/plain": [
       "category\n",
       "0    62\n",
       "2    25\n",
       "4    23\n",
       "1    13\n",
       "5    13\n",
       "3    12\n",
       "6    12\n",
       "7    12\n",
       "Name: count, dtype: int64"
      ]
     },
     "execution_count": 73,
     "metadata": {},
     "output_type": "execute_result"
    }
   ],
   "source": [
    "normalized_df['category'] = pd.factorize(normalized_df['category'])[0]\n",
    "normalized_df['category'].value_counts()"
   ]
  },
  {
   "attachments": {},
   "cell_type": "markdown",
   "metadata": {},
   "source": [
    "So as in the city and the state_code attributes there are many type of them so we chose to leave only the 10 most common state_codes and the 20 most common cities and convert the other to \"other\""
   ]
  },
  {
   "cell_type": "code",
   "execution_count": 75,
   "metadata": {},
   "outputs": [
    {
     "data": {
      "text/plain": [
       "<seaborn.axisgrid.FacetGrid at 0x1f021fcc990>"
      ]
     },
     "execution_count": 75,
     "metadata": {},
     "output_type": "execute_result"
    },
    {
     "data": {
      "image/png": "[encoded data removed]",
      "text/plain": [
       "<Figure size 500x500 with 1 Axes>"
      ]
     },
     "metadata": {},
     "output_type": "display_data"
    },
    {
     "data": {
      "image/png": "[encoded data removed]",
      "text/plain": [
       "<Figure size 500x500 with 1 Axes>"
      ]
     },
     "metadata": {},
     "output_type": "display_data"
    }
   ],
   "source": [
    "list1 = normalized_df['state_code'].value_counts().index.tolist()\n",
    "normalized_df['state_code'].replace(list1[10:], 'other', inplace=True)\n",
    "normalized_df['state_code'].value_counts()\n",
    "sns.catplot(data=normalized_df, y='state_code', kind='count')\n",
    "\n",
    "list1 = normalized_df['city'].value_counts().index.tolist()\n",
    "normalized_df['city'].replace(list1[20:], 'other', inplace=True)\n",
    "normalized_df['city'].value_counts()\n",
    "sns.catplot(data=normalized_df, y='city', kind='count')"
   ]
  },
  {
   "attachments": {},
   "cell_type": "markdown",
   "metadata": {},
   "source": [
    "We now changed the state code and the city attributes from string to int"
   ]
  },
  {
   "cell_type": "code",
   "execution_count": 76,
   "metadata": {},
   "outputs": [],
   "source": [
    "normalized_df['state_code'] = pd.factorize(normalized_df['state_code'])[0]\n",
    "normalized_df['city'] = pd.factorize(normalized_df['city'])[0]"
   ]
  },
  {
   "cell_type": "code",
   "execution_count": 77,
   "metadata": {},
   "outputs": [
    {
     "data": {
      "text/plain": [
       "city\n",
       "0     58\n",
       "2     25\n",
       "3     20\n",
       "11     9\n",
       "9      8\n",
       "8      7\n",
       "13     6\n",
       "16     5\n",
       "10     4\n",
       "7      4\n",
       "6      3\n",
       "5      3\n",
       "14     3\n",
       "4      3\n",
       "1      2\n",
       "12     2\n",
       "15     2\n",
       "17     2\n",
       "18     2\n",
       "19     2\n",
       "20     2\n",
       "Name: count, dtype: int64"
      ]
     },
     "execution_count": 77,
     "metadata": {},
     "output_type": "execute_result"
    }
   ],
   "source": [
    "normalized_df['state_code'].value_counts()\n",
    "normalized_df['city'].value_counts()"
   ]
  },
  {
   "attachments": {},
   "cell_type": "markdown",
   "metadata": {},
   "source": [
    "We changed the Target attribute to be binary 1 and 0"
   ]
  },
  {
   "cell_type": "code",
   "execution_count": 78,
   "metadata": {},
   "outputs": [
    {
     "ename": "KeyError",
     "evalue": "'Target'",
     "output_type": "error",
     "traceback": [
      "\u001b[1;31m---------------------------------------------------------------------------\u001b[0m",
      "\u001b[1;31mKeyError\u001b[0m                                  Traceback (most recent call last)",
      "File \u001b[1;32mc:\\Users\\ereld\\AppData\\Local\\Programs\\Python\\Python311\\Lib\\site-packages\\pandas\\core\\indexes\\base.py:3652\u001b[0m, in \u001b[0;36mIndex.get_loc\u001b[1;34m(self, key)\u001b[0m\n\u001b[0;32m   3651\u001b[0m \u001b[39mtry\u001b[39;00m:\n\u001b[1;32m-> 3652\u001b[0m     \u001b[39mreturn\u001b[39;00m \u001b[39mself\u001b[39;49m\u001b[39m.\u001b[39;49m_engine\u001b[39m.\u001b[39;49mget_loc(casted_key)\n\u001b[0;32m   3653\u001b[0m \u001b[39mexcept\u001b[39;00m \u001b[39mKeyError\u001b[39;00m \u001b[39mas\u001b[39;00m err:\n",
      "File \u001b[1;32mc:\\Users\\ereld\\AppData\\Local\\Programs\\Python\\Python311\\Lib\\site-packages\\pandas\\_libs\\index.pyx:147\u001b[0m, in \u001b[0;36mpandas._libs.index.IndexEngine.get_loc\u001b[1;34m()\u001b[0m\n",
      "File \u001b[1;32mc:\\Users\\ereld\\AppData\\Local\\Programs\\Python\\Python311\\Lib\\site-packages\\pandas\\_libs\\index.pyx:176\u001b[0m, in \u001b[0;36mpandas._libs.index.IndexEngine.get_loc\u001b[1;34m()\u001b[0m\n",
      "File \u001b[1;32mpandas\\_libs\\hashtable_class_helper.pxi:7080\u001b[0m, in \u001b[0;36mpandas._libs.hashtable.PyObjectHashTable.get_item\u001b[1;34m()\u001b[0m\n",
      "File \u001b[1;32mpandas\\_libs\\hashtable_class_helper.pxi:7088\u001b[0m, in \u001b[0;36mpandas._libs.hashtable.PyObjectHashTable.get_item\u001b[1;34m()\u001b[0m\n",
      "\u001b[1;31mKeyError\u001b[0m: 'Target'",
      "\nThe above exception was the direct cause of the following exception:\n",
      "\u001b[1;31mKeyError\u001b[0m                                  Traceback (most recent call last)",
      "Cell \u001b[1;32mIn[78], line 1\u001b[0m\n\u001b[1;32m----> 1\u001b[0m normalized_df[\u001b[39m'\u001b[39m\u001b[39mTarget\u001b[39m\u001b[39m'\u001b[39m] \u001b[39m=\u001b[39m normalized_df[\u001b[39m'\u001b[39;49m\u001b[39mTarget\u001b[39;49m\u001b[39m'\u001b[39;49m]\u001b[39m.\u001b[39mastype(\u001b[39m'\u001b[39m\u001b[39mcategory\u001b[39m\u001b[39m'\u001b[39m)\u001b[39m.\u001b[39mcat\u001b[39m.\u001b[39mcodes\n",
      "File \u001b[1;32mc:\\Users\\ereld\\AppData\\Local\\Programs\\Python\\Python311\\Lib\\site-packages\\pandas\\core\\frame.py:3761\u001b[0m, in \u001b[0;36mDataFrame.__getitem__\u001b[1;34m(self, key)\u001b[0m\n\u001b[0;32m   3759\u001b[0m \u001b[39mif\u001b[39;00m \u001b[39mself\u001b[39m\u001b[39m.\u001b[39mcolumns\u001b[39m.\u001b[39mnlevels \u001b[39m>\u001b[39m \u001b[39m1\u001b[39m:\n\u001b[0;32m   3760\u001b[0m     \u001b[39mreturn\u001b[39;00m \u001b[39mself\u001b[39m\u001b[39m.\u001b[39m_getitem_multilevel(key)\n\u001b[1;32m-> 3761\u001b[0m indexer \u001b[39m=\u001b[39m \u001b[39mself\u001b[39;49m\u001b[39m.\u001b[39;49mcolumns\u001b[39m.\u001b[39;49mget_loc(key)\n\u001b[0;32m   3762\u001b[0m \u001b[39mif\u001b[39;00m is_integer(indexer):\n\u001b[0;32m   3763\u001b[0m     indexer \u001b[39m=\u001b[39m [indexer]\n",
      "File \u001b[1;32mc:\\Users\\ereld\\AppData\\Local\\Programs\\Python\\Python311\\Lib\\site-packages\\pandas\\core\\indexes\\base.py:3654\u001b[0m, in \u001b[0;36mIndex.get_loc\u001b[1;34m(self, key)\u001b[0m\n\u001b[0;32m   3652\u001b[0m     \u001b[39mreturn\u001b[39;00m \u001b[39mself\u001b[39m\u001b[39m.\u001b[39m_engine\u001b[39m.\u001b[39mget_loc(casted_key)\n\u001b[0;32m   3653\u001b[0m \u001b[39mexcept\u001b[39;00m \u001b[39mKeyError\u001b[39;00m \u001b[39mas\u001b[39;00m err:\n\u001b[1;32m-> 3654\u001b[0m     \u001b[39mraise\u001b[39;00m \u001b[39mKeyError\u001b[39;00m(key) \u001b[39mfrom\u001b[39;00m \u001b[39merr\u001b[39;00m\n\u001b[0;32m   3655\u001b[0m \u001b[39mexcept\u001b[39;00m \u001b[39mTypeError\u001b[39;00m:\n\u001b[0;32m   3656\u001b[0m     \u001b[39m# If we have a listlike key, _check_indexing_error will raise\u001b[39;00m\n\u001b[0;32m   3657\u001b[0m     \u001b[39m#  InvalidIndexError. Otherwise we fall through and re-raise\u001b[39;00m\n\u001b[0;32m   3658\u001b[0m     \u001b[39m#  the TypeError.\u001b[39;00m\n\u001b[0;32m   3659\u001b[0m     \u001b[39mself\u001b[39m\u001b[39m.\u001b[39m_check_indexing_error(key)\n",
      "\u001b[1;31mKeyError\u001b[0m: 'Target'"
     ]
    }
   ],
   "source": [
    "#normalized_df['Target'] = normalized_df['Target'].astype('category').cat.codes"
   ]
  },
  {
   "attachments": {},
   "cell_type": "markdown",
   "metadata": {},
   "source": [
    "We want to look again at all the statists of the attributes"
   ]
  },
  {
   "cell_type": "code",
   "execution_count": null,
   "metadata": {},
   "outputs": [],
   "source": [
    "# df_numeric = normalized_df.select_dtypes(include=numerics)\n",
    "# df_numeric['Target'] = normalized_df['Target'].astype('category').cat.codes\n",
    "\n",
    "# fig, axes = plt.subplots(nrows=5, ncols=4, figsize=(20, 20), sharex=False, sharey=False)\n",
    "# axes = axes.ravel()  # array to 1D\n",
    "# cols = df_numeric.columns[:-1]  # create a list of dataframe columns to use\n",
    "\n",
    "# for col, ax in zip(cols, axes):\n",
    "#     data = df_numeric[[col, 'Target']]  # select the data\n",
    "#     sns.histplot(data=data, x=col, hue='Target', fill=True, ax=ax)\n",
    "#     ax.set(title=f'{col}', xlabel=None)\n",
    "\n",
    "# ###fig.delaxes(axes[18])  # delete the empty subplot\n",
    "# ###fig.delaxes(axes[19])  # delete the empty subplot\n",
    "# fig.tight_layout()"
   ]
  },
  {
   "cell_type": "code",
   "execution_count": null,
   "metadata": {},
   "outputs": [],
   "source": [
    "normalized_df.to_csv('test_preprocessed.csv')"
   ]
  },
  {
   "attachments": {},
   "cell_type": "markdown",
   "metadata": {},
   "source": [
    "# Attributes correlations"
   ]
  },
  {
   "cell_type": "code",
   "execution_count": null,
   "metadata": {},
   "outputs": [],
   "source": [
    "# normalized_df.corr(method = 'pearson')\n",
    "# f, ax = plt.subplots(figsize=(8, 7))\n",
    "# ax = sns.heatmap(normalized_df.corr(), annot = True, vmin=-1, vmax=1, center= 0,\n",
    "#             cmap= \"RdGy\", linewidths=0.5, linecolor='black', annot_kws={'fontsize':8}, fmt='.2f')"
   ]
  },
  {
   "attachments": {},
   "cell_type": "markdown",
   "metadata": {},
   "source": [
    "# Intresting relations visualizations"
   ]
  },
  {
   "attachments": {},
   "cell_type": "markdown",
   "metadata": {},
   "source": [
    "We want to see if having lots of connections affect the probability for the startup to success"
   ]
  },
  {
   "cell_type": "code",
   "execution_count": null,
   "metadata": {},
   "outputs": [],
   "source": [
    "# sns.boxplot(data=normalized_df, x=\"Target\", y=\"connections\")"
   ]
  },
  {
   "attachments": {},
   "cell_type": "markdown",
   "metadata": {},
   "source": [
    "We saw surprisingly high corraltion between milestone and connnection atrribute"
   ]
  },
  {
   "cell_type": "code",
   "execution_count": null,
   "metadata": {},
   "outputs": [],
   "source": [
    "# grid = sns.FacetGrid(normalized_df, col=\"milestones\")\n",
    "# grid.map(sns.histplot, \"connections\")\n",
    "# grid.add_legend"
   ]
  },
  {
   "attachments": {},
   "cell_type": "markdown",
   "metadata": {},
   "source": [
    "We saw as expect high corraltion between funding_rounds and total_funding"
   ]
  },
  {
   "cell_type": "code",
   "execution_count": null,
   "metadata": {},
   "outputs": [],
   "source": [
    "# sns.boxplot(data=normalized_df, x='funding_rounds', y='total_funding')"
   ]
  },
  {
   "attachments": {},
   "cell_type": "markdown",
   "metadata": {},
   "source": [
    "We saw as expected that there was a corraltion between the ages attributes so we will show th in distribution graphsere distrbit"
   ]
  },
  {
   "cell_type": "code",
   "execution_count": null,
   "metadata": {},
   "outputs": [],
   "source": [
    "# df_ages = normalized_df[[\"first_funding_age\", \"last_funding_age\", \"first_milestone_age\", \"last_milestone_age\", \"Target\"]]\n",
    "# fig, axes = plt.subplots(nrows=1, ncols=4, figsize=(20, 5), sharex=False, sharey=False)\n",
    "# axes = axes.ravel()  # array to 1D\n",
    "# cols = df_ages.columns[:-1]  # create a list of dataframe columns to use\n",
    "\n",
    "# for col, ax in zip(cols, axes):\n",
    "#     data = df_ages[[col, 'Target']]  # select the data\n",
    "#     sns.kdeplot(data=data, x=col, hue='Target', fill=True, ax=ax)\n",
    "#     ax.set(title=f'{col}', xlabel=None)\n",
    "\n",
    "# fig.tight_layout()"
   ]
  },
  {
   "attachments": {},
   "cell_type": "markdown",
   "metadata": {},
   "source": [
    "# PCA"
   ]
  },
  {
   "attachments": {},
   "cell_type": "markdown",
   "metadata": {},
   "source": [
    "We will do the PCA algorithm and show its results in a graph"
   ]
  },
  {
   "cell_type": "code",
   "execution_count": null,
   "metadata": {},
   "outputs": [],
   "source": [
    "pca = PCA(n_components = 0.99, svd_solver = 'full') \n",
    "pca.fit(normalized_df, y='Target')\n",
    "df2 = pd.DataFrame(pca.transform(normalized_df))"
   ]
  },
  {
   "cell_type": "code",
   "execution_count": null,
   "metadata": {},
   "outputs": [
    {
     "data": {
      "text/plain": [
       "<matplotlib.collections.PathCollection at 0x1f01a80db50>"
      ]
     },
     "execution_count": 36,
     "metadata": {},
     "output_type": "execute_result"
    },
    {
     "data": {
      "image/png": "[encoded data removed]",
      "text/plain": [
       "<Figure size 640x480 with 1 Axes>"
      ]
     },
     "metadata": {},
     "output_type": "display_data"
    }
   ],
   "source": [
    "colordict = {0: 'rebeccapurple', 1: 'g'}\n",
    "plt.scatter(df2[0], df2[1], c = normalized_df['Target'].map(colordict))"
   ]
  },
  {
   "cell_type": "code",
   "execution_count": 129,
   "metadata": {},
   "outputs": [
    {
     "data": {
      "text/html": [
       "<div>\n",
       "<style scoped>\n",
       "    .dataframe tbody tr th:only-of-type {\n",
       "        vertical-align: middle;\n",
       "    }\n",
       "\n",
       "    .dataframe tbody tr th {\n",
       "        vertical-align: top;\n",
       "    }\n",
       "\n",
       "    .dataframe thead th {\n",
       "        text-align: right;\n",
       "    }\n",
       "</style>\n",
       "<table border=\"1\" class=\"dataframe\">\n",
       "  <thead>\n",
       "    <tr style=\"text-align: right;\">\n",
       "      <th></th>\n",
       "      <th>0</th>\n",
       "      <th>1</th>\n",
       "      <th>2</th>\n",
       "      <th>3</th>\n",
       "      <th>4</th>\n",
       "      <th>5</th>\n",
       "      <th>6</th>\n",
       "      <th>7</th>\n",
       "    </tr>\n",
       "  </thead>\n",
       "  <tbody>\n",
       "    <tr>\n",
       "      <th>0</th>\n",
       "      <td>-5.130808</td>\n",
       "      <td>-1.631728</td>\n",
       "      <td>-3.222186</td>\n",
       "      <td>-0.595269</td>\n",
       "      <td>0.072692</td>\n",
       "      <td>-0.651744</td>\n",
       "      <td>-0.563267</td>\n",
       "      <td>-0.942833</td>\n",
       "    </tr>\n",
       "    <tr>\n",
       "      <th>1</th>\n",
       "      <td>-4.090723</td>\n",
       "      <td>-1.938417</td>\n",
       "      <td>-2.341251</td>\n",
       "      <td>0.866759</td>\n",
       "      <td>1.133273</td>\n",
       "      <td>0.105493</td>\n",
       "      <td>0.178869</td>\n",
       "      <td>-0.016602</td>\n",
       "    </tr>\n",
       "    <tr>\n",
       "      <th>2</th>\n",
       "      <td>-4.063805</td>\n",
       "      <td>-2.185335</td>\n",
       "      <td>-1.371655</td>\n",
       "      <td>0.767476</td>\n",
       "      <td>1.061708</td>\n",
       "      <td>0.104457</td>\n",
       "      <td>0.154082</td>\n",
       "      <td>0.014648</td>\n",
       "    </tr>\n",
       "    <tr>\n",
       "      <th>3</th>\n",
       "      <td>-3.057089</td>\n",
       "      <td>-2.268133</td>\n",
       "      <td>-0.381641</td>\n",
       "      <td>-0.913108</td>\n",
       "      <td>0.111462</td>\n",
       "      <td>0.236636</td>\n",
       "      <td>0.053211</td>\n",
       "      <td>0.390044</td>\n",
       "    </tr>\n",
       "    <tr>\n",
       "      <th>4</th>\n",
       "      <td>-2.026423</td>\n",
       "      <td>-2.470543</td>\n",
       "      <td>0.569239</td>\n",
       "      <td>-0.287868</td>\n",
       "      <td>0.355065</td>\n",
       "      <td>0.651820</td>\n",
       "      <td>-0.514132</td>\n",
       "      <td>0.575563</td>\n",
       "    </tr>\n",
       "    <tr>\n",
       "      <th>...</th>\n",
       "      <td>...</td>\n",
       "      <td>...</td>\n",
       "      <td>...</td>\n",
       "      <td>...</td>\n",
       "      <td>...</td>\n",
       "      <td>...</td>\n",
       "      <td>...</td>\n",
       "      <td>...</td>\n",
       "    </tr>\n",
       "    <tr>\n",
       "      <th>661</th>\n",
       "      <td>-4.542435</td>\n",
       "      <td>3.266710</td>\n",
       "      <td>-1.996649</td>\n",
       "      <td>-0.619446</td>\n",
       "      <td>0.248962</td>\n",
       "      <td>0.204535</td>\n",
       "      <td>-0.176731</td>\n",
       "      <td>-0.035121</td>\n",
       "    </tr>\n",
       "    <tr>\n",
       "      <th>662</th>\n",
       "      <td>6.889688</td>\n",
       "      <td>-1.190886</td>\n",
       "      <td>-1.388528</td>\n",
       "      <td>-0.188008</td>\n",
       "      <td>-0.545941</td>\n",
       "      <td>-0.454656</td>\n",
       "      <td>0.299539</td>\n",
       "      <td>0.231160</td>\n",
       "    </tr>\n",
       "    <tr>\n",
       "      <th>663</th>\n",
       "      <td>2.277164</td>\n",
       "      <td>5.714384</td>\n",
       "      <td>-1.534408</td>\n",
       "      <td>-0.230517</td>\n",
       "      <td>-0.664637</td>\n",
       "      <td>0.363170</td>\n",
       "      <td>0.554428</td>\n",
       "      <td>0.563400</td>\n",
       "    </tr>\n",
       "    <tr>\n",
       "      <th>664</th>\n",
       "      <td>-4.787005</td>\n",
       "      <td>6.355072</td>\n",
       "      <td>1.915155</td>\n",
       "      <td>-0.576299</td>\n",
       "      <td>0.207028</td>\n",
       "      <td>0.242830</td>\n",
       "      <td>-0.071680</td>\n",
       "      <td>0.251722</td>\n",
       "    </tr>\n",
       "    <tr>\n",
       "      <th>665</th>\n",
       "      <td>-2.138539</td>\n",
       "      <td>-1.445365</td>\n",
       "      <td>-3.276395</td>\n",
       "      <td>-0.438664</td>\n",
       "      <td>0.042805</td>\n",
       "      <td>-0.635962</td>\n",
       "      <td>-0.075967</td>\n",
       "      <td>0.325726</td>\n",
       "    </tr>\n",
       "  </tbody>\n",
       "</table>\n",
       "<p>666 rows × 8 columns</p>\n",
       "</div>"
      ],
      "text/plain": [
       "            0         1         2         3         4         5         6   \n",
       "0   -5.130808 -1.631728 -3.222186 -0.595269  0.072692 -0.651744 -0.563267  \\\n",
       "1   -4.090723 -1.938417 -2.341251  0.866759  1.133273  0.105493  0.178869   \n",
       "2   -4.063805 -2.185335 -1.371655  0.767476  1.061708  0.104457  0.154082   \n",
       "3   -3.057089 -2.268133 -0.381641 -0.913108  0.111462  0.236636  0.053211   \n",
       "4   -2.026423 -2.470543  0.569239 -0.287868  0.355065  0.651820 -0.514132   \n",
       "..        ...       ...       ...       ...       ...       ...       ...   \n",
       "661 -4.542435  3.266710 -1.996649 -0.619446  0.248962  0.204535 -0.176731   \n",
       "662  6.889688 -1.190886 -1.388528 -0.188008 -0.545941 -0.454656  0.299539   \n",
       "663  2.277164  5.714384 -1.534408 -0.230517 -0.664637  0.363170  0.554428   \n",
       "664 -4.787005  6.355072  1.915155 -0.576299  0.207028  0.242830 -0.071680   \n",
       "665 -2.138539 -1.445365 -3.276395 -0.438664  0.042805 -0.635962 -0.075967   \n",
       "\n",
       "            7  \n",
       "0   -0.942833  \n",
       "1   -0.016602  \n",
       "2    0.014648  \n",
       "3    0.390044  \n",
       "4    0.575563  \n",
       "..        ...  \n",
       "661 -0.035121  \n",
       "662  0.231160  \n",
       "663  0.563400  \n",
       "664  0.251722  \n",
       "665  0.325726  \n",
       "\n",
       "[666 rows x 8 columns]"
      ]
     },
     "execution_count": 129,
     "metadata": {},
     "output_type": "execute_result"
    }
   ],
   "source": [
    "df2.to_csv('preprocessedPCA.csv')\n",
    "df2"
   ]
  }
 ],
 "metadata": {
  "kernelspec": {
   "display_name": "Python 3",
   "language": "python",
   "name": "python3"
  },
  "language_info": {
   "codemirror_mode": {
    "name": "ipython",
    "version": 3
   },
   "file_extension": ".py",
   "mimetype": "text/x-python",
   "name": "python",
   "nbconvert_exporter": "python",
   "pygments_lexer": "ipython3",
   "version": "3.11.3"
  },
  "orig_nbformat": 4
 },
 "nbformat": 4,
 "nbformat_minor": 2
}
